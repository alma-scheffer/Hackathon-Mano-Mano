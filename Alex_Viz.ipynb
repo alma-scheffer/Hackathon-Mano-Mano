{
 "cells": [
  {
   "cell_type": "markdown",
   "metadata": {},
   "source": [
    "# **Creating the dataframes**"
   ]
  },
  {
   "cell_type": "code",
   "execution_count": 28,
   "metadata": {},
   "outputs": [],
   "source": [
    "import pandas as pd\n",
    "import numpy as np\n",
    "import matplotlib.pyplot as plt\n",
    "import seaborn as sns"
   ]
  },
  {
   "cell_type": "code",
   "execution_count": 29,
   "metadata": {},
   "outputs": [
    {
     "name": "stderr",
     "output_type": "stream",
     "text": [
      "C:\\Users\\Utilizador\\anaconda3\\envs\\Safe space\\lib\\site-packages\\IPython\\core\\interactiveshell.py:3172: DtypeWarning: Columns (13) have mixed types.Specify dtype option on import or set low_memory=False.\n",
      "  has_raised = await self.run_ast_nodes(code_ast.body, cell_name,\n"
     ]
    }
   ],
   "source": [
    "df_aug = pd.read_csv('C:/Users/Utilizador/Documents/GitHub/wild-git/Hackathon-Mano-Mano/August.csv')\n",
    "df_sep = pd.read_csv('C:/Users/Utilizador/Documents/GitHub/wild-git/Hackathon-Mano-Mano/September.csv')\n",
    "df_oct = pd.read_csv('C:/Users/Utilizador/Documents/GitHub/wild-git/Hackathon-Mano-Mano/October.csv')\n",
    "df_nov = pd.read_csv('C:/Users/Utilizador/Documents/GitHub/wild-git/Hackathon-Mano-Mano/November.csv')"
   ]
  },
  {
   "cell_type": "code",
   "execution_count": 30,
   "metadata": {},
   "outputs": [],
   "source": [
    "df_aug = df_aug[['id', 'score', 'day', 'month', 'is_mf', 'device', 'family', 'is_b2b',\n",
    "       'browser', 'category', 'platform', 'first_order', 'nb_articles',\n",
    "       'csat_presales', 'shipping_fees', 'bv_transaction', 'payment_method',\n",
    "       'operating_system', 'last_paid_channel', 'has_presales_contact',\n",
    "       'shipping_fees_bucket', 'bv_transaction_bucket',\n",
    "       'has_manodvisor_contact']]"
   ]
  },
  {
   "cell_type": "code",
   "execution_count": 31,
   "metadata": {},
   "outputs": [],
   "source": [
    "df_sep = df_sep[['id', 'score', 'day', 'month', 'is_mf', 'device', 'family', 'is_b2b',\n",
    "       'browser', 'category', 'platform', 'first_order', 'nb_articles',\n",
    "       'csat_presales', 'shipping_fees', 'bv_transaction', 'payment_method',\n",
    "       'operating_system', 'last_paid_channel', 'has_presales_contact',\n",
    "       'shipping_fees_bucket', 'bv_transaction_bucket',\n",
    "       'has_manodvisor_contact']]"
   ]
  },
  {
   "cell_type": "code",
   "execution_count": 32,
   "metadata": {},
   "outputs": [],
   "source": [
    "df_oct = df_oct[['id', 'score', 'day', 'month', 'is_mf', 'device', 'family', 'is_b2b',\n",
    "       'browser', 'category', 'platform', 'first_order', 'nb_articles',\n",
    "       'csat_presales', 'shipping_fees', 'bv_transaction', 'payment_method',\n",
    "       'operating_system', 'last_paid_channel', 'has_presales_contact',\n",
    "       'shipping_fees_bucket', 'bv_transaction_bucket',\n",
    "       'has_manodvisor_contact']]"
   ]
  },
  {
   "cell_type": "code",
   "execution_count": 33,
   "metadata": {},
   "outputs": [],
   "source": [
    "df_nov = df_nov[['id', 'score', 'day', 'month', 'is_mf', 'device', 'family', 'is_b2b',\n",
    "       'browser', 'category', 'platform', 'first_order', 'nb_articles',\n",
    "       'csat_presales', 'shipping_fees', 'bv_transaction', 'payment_method',\n",
    "       'operating_system', 'last_paid_channel', 'has_presales_contact',\n",
    "       'shipping_fees_bucket', 'bv_transaction_bucket',\n",
    "       'has_manodvisor_contact']]"
   ]
  },
  {
   "cell_type": "code",
   "execution_count": 34,
   "metadata": {},
   "outputs": [],
   "source": [
    "df = pd.concat([df_aug , df_sep, df_oct, df_nov], ignore_index = True)"
   ]
  },
  {
   "cell_type": "markdown",
   "metadata": {},
   "source": [
    "# **Visualization**"
   ]
  },
  {
   "cell_type": "code",
   "execution_count": 35,
   "metadata": {},
   "outputs": [
    {
     "data": {
      "text/plain": [
       "Outillage               12663\n",
       "Jardin piscine          11358\n",
       "Mobilier d'intérieur     7026\n",
       "Plomberie chauffage      5082\n",
       "Quincaillerie            4968\n",
       "Name: family, dtype: int64"
      ]
     },
     "execution_count": 35,
     "metadata": {},
     "output_type": "execute_result"
    }
   ],
   "source": [
    "df[df['platform'] == 'FR']['family'].value_counts(dropna = False).head()"
   ]
  },
  {
   "cell_type": "code",
   "execution_count": 36,
   "metadata": {},
   "outputs": [
    {
     "data": {
      "text/plain": [
       "Jardin piscine          2865\n",
       "Mobilier d'intérieur    2531\n",
       "Outillage               2110\n",
       "Electricité             1115\n",
       "Luminaire               1073\n",
       "Name: family, dtype: int64"
      ]
     },
     "execution_count": 36,
     "metadata": {},
     "output_type": "execute_result"
    }
   ],
   "source": [
    "df[df['platform'] == 'IT']['family'].value_counts(dropna = False).head()"
   ]
  },
  {
   "cell_type": "code",
   "execution_count": 37,
   "metadata": {},
   "outputs": [
    {
     "data": {
      "text/plain": [
       "Jardin piscine          2277\n",
       "Mobilier d'intérieur    2155\n",
       "Outillage               1761\n",
       "Luminaire                777\n",
       "Plomberie chauffage      683\n",
       "Name: family, dtype: int64"
      ]
     },
     "execution_count": 37,
     "metadata": {},
     "output_type": "execute_result"
    }
   ],
   "source": [
    "df[df['platform'] == 'ES']['family'].value_counts(dropna = False).head()"
   ]
  },
  {
   "cell_type": "code",
   "execution_count": 38,
   "metadata": {},
   "outputs": [
    {
     "data": {
      "text/plain": [
       "Mobilier d'intérieur    2616\n",
       "Jardin piscine          1938\n",
       "Salle de bain, WC        912\n",
       "Outillage                908\n",
       "Plomberie chauffage      768\n",
       "Name: family, dtype: int64"
      ]
     },
     "execution_count": 38,
     "metadata": {},
     "output_type": "execute_result"
    }
   ],
   "source": [
    "df[df['platform'] == 'GB']['family'].value_counts(dropna = False).head()"
   ]
  },
  {
   "cell_type": "code",
   "execution_count": 39,
   "metadata": {},
   "outputs": [
    {
     "data": {
      "text/plain": [
       "Jardin piscine          1237\n",
       "Outillage               1113\n",
       "Mobilier d'intérieur     672\n",
       "Salle de bain, WC        588\n",
       "Plomberie chauffage      425\n",
       "Name: family, dtype: int64"
      ]
     },
     "execution_count": 39,
     "metadata": {},
     "output_type": "execute_result"
    }
   ],
   "source": [
    "df[df['platform'] == 'DE']['family'].value_counts(dropna = False).head()"
   ]
  },
  {
   "cell_type": "code",
   "execution_count": 40,
   "metadata": {},
   "outputs": [
    {
     "data": {
      "text/plain": [
       "Jardin piscine            19675\n",
       "Outillage                 18555\n",
       "Mobilier d'intérieur      15000\n",
       "Plomberie chauffage        7806\n",
       "Salle de bain, WC          6664\n",
       "Quincaillerie              6638\n",
       "Electricité                6387\n",
       "Luminaire                  6116\n",
       "Animalerie                 2493\n",
       "Revêtement sol et mur      2279\n",
       "Cuisine                    2071\n",
       "Construction matériaux     1492\n",
       "Name: family, dtype: int64"
      ]
     },
     "execution_count": 40,
     "metadata": {},
     "output_type": "execute_result"
    }
   ],
   "source": [
    "df['family'].value_counts()"
   ]
  }
 ],
 "metadata": {
  "interpreter": {
   "hash": "9551cd33bf16c35239638d01283791bf06f66b16b64b8c1df3bd1173c0151abf"
  },
  "kernelspec": {
   "display_name": "Python 3.8.12 64-bit ('Safe space': conda)",
   "language": "python",
   "name": "python3"
  },
  "language_info": {
   "codemirror_mode": {
    "name": "ipython",
    "version": 3
   },
   "file_extension": ".py",
   "mimetype": "text/x-python",
   "name": "python",
   "nbconvert_exporter": "python",
   "pygments_lexer": "ipython3",
   "version": "3.8.12"
  },
  "orig_nbformat": 4
 },
 "nbformat": 4,
 "nbformat_minor": 2
}
