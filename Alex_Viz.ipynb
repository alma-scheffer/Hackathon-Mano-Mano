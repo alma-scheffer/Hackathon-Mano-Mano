{
 "cells": [
  {
   "cell_type": "markdown",
   "metadata": {},
   "source": [
    "# **Creating the dataframes**"
   ]
  },
  {
   "cell_type": "code",
   "execution_count": 42,
   "metadata": {},
   "outputs": [],
   "source": [
    "import pandas as pd\n",
    "import numpy as np\n",
    "import matplotlib.pyplot as plt\n",
    "import seaborn as sns\n",
    "import string\n",
    "import nltk"
   ]
  },
  {
   "cell_type": "code",
   "execution_count": 43,
   "metadata": {},
   "outputs": [
    {
     "name": "stderr",
     "output_type": "stream",
     "text": [
      "C:\\Users\\Utilizador\\anaconda3\\envs\\Safe space\\lib\\site-packages\\IPython\\core\\interactiveshell.py:3172: DtypeWarning: Columns (13) have mixed types.Specify dtype option on import or set low_memory=False.\n",
      "  has_raised = await self.run_ast_nodes(code_ast.body, cell_name,\n"
     ]
    }
   ],
   "source": [
    "df_aug = pd.read_csv('C:/Users/Utilizador/Documents/GitHub/wild-git/Hackathon-Mano-Mano/August.csv')\n",
    "df_sep = pd.read_csv('C:/Users/Utilizador/Documents/GitHub/wild-git/Hackathon-Mano-Mano/September.csv')\n",
    "df_oct = pd.read_csv('C:/Users/Utilizador/Documents/GitHub/wild-git/Hackathon-Mano-Mano/October.csv')\n",
    "df_nov = pd.read_csv('C:/Users/Utilizador/Documents/GitHub/wild-git/Hackathon-Mano-Mano/November.csv')"
   ]
  },
  {
   "cell_type": "code",
   "execution_count": 44,
   "metadata": {},
   "outputs": [],
   "source": [
    "df_aug_clean = df_aug[['id', 'score', 'day', 'month', 'is_mf', 'device', 'family', 'is_b2b',\n",
    "       'browser', 'category', 'platform', 'first_order', 'nb_articles',\n",
    "       'csat_presales', 'shipping_fees', 'bv_transaction', 'payment_method',\n",
    "       'operating_system', 'last_paid_channel', 'has_presales_contact',\n",
    "       'shipping_fees_bucket', 'bv_transaction_bucket',\n",
    "       'has_manodvisor_contact']]"
   ]
  },
  {
   "cell_type": "code",
   "execution_count": 45,
   "metadata": {},
   "outputs": [],
   "source": [
    "df_sep_clean = df_sep[['id', 'score', 'day', 'month', 'is_mf', 'device', 'family', 'is_b2b',\n",
    "       'browser', 'category', 'platform', 'first_order', 'nb_articles',\n",
    "       'csat_presales', 'shipping_fees', 'bv_transaction', 'payment_method',\n",
    "       'operating_system', 'last_paid_channel', 'has_presales_contact',\n",
    "       'shipping_fees_bucket', 'bv_transaction_bucket',\n",
    "       'has_manodvisor_contact']]"
   ]
  },
  {
   "cell_type": "code",
   "execution_count": 46,
   "metadata": {},
   "outputs": [],
   "source": [
    "df_oct_clean = df_oct[['id', 'score', 'day', 'month', 'is_mf', 'device', 'family', 'is_b2b',\n",
    "       'browser', 'category', 'platform', 'first_order', 'nb_articles',\n",
    "       'csat_presales', 'shipping_fees', 'bv_transaction', 'payment_method',\n",
    "       'operating_system', 'last_paid_channel', 'has_presales_contact',\n",
    "       'shipping_fees_bucket', 'bv_transaction_bucket',\n",
    "       'has_manodvisor_contact']]"
   ]
  },
  {
   "cell_type": "code",
   "execution_count": 47,
   "metadata": {},
   "outputs": [],
   "source": [
    "df_nov_clean = df_nov[['id', 'score', 'day', 'month', 'is_mf', 'device', 'family', 'is_b2b',\n",
    "       'browser', 'category', 'platform', 'first_order', 'nb_articles',\n",
    "       'csat_presales', 'shipping_fees', 'bv_transaction', 'payment_method',\n",
    "       'operating_system', 'last_paid_channel', 'has_presales_contact',\n",
    "       'shipping_fees_bucket', 'bv_transaction_bucket',\n",
    "       'has_manodvisor_contact']]"
   ]
  },
  {
   "cell_type": "code",
   "execution_count": 48,
   "metadata": {},
   "outputs": [],
   "source": [
    "df = pd.concat([df_aug_clean , df_sep_clean, df_oct_clean, df_nov_clean], ignore_index = True)"
   ]
  },
  {
   "cell_type": "markdown",
   "metadata": {},
   "source": [
    "# **Visualization**"
   ]
  },
  {
   "cell_type": "markdown",
   "metadata": {},
   "source": [
    "## Most ordered families, and what each users from each country usually prefer"
   ]
  },
  {
   "cell_type": "code",
   "execution_count": 49,
   "metadata": {},
   "outputs": [
    {
     "data": {
      "text/plain": [
       "Outillage               12663\n",
       "Jardin piscine          11358\n",
       "Mobilier d'intérieur     7026\n",
       "Plomberie chauffage      5082\n",
       "Quincaillerie            4968\n",
       "Name: family, dtype: int64"
      ]
     },
     "execution_count": 49,
     "metadata": {},
     "output_type": "execute_result"
    }
   ],
   "source": [
    "df[df['platform'] == 'FR']['family'].value_counts(dropna = False).head()"
   ]
  },
  {
   "cell_type": "code",
   "execution_count": 50,
   "metadata": {},
   "outputs": [
    {
     "data": {
      "text/plain": [
       "Jardin piscine          2865\n",
       "Mobilier d'intérieur    2531\n",
       "Outillage               2110\n",
       "Electricité             1115\n",
       "Luminaire               1073\n",
       "Name: family, dtype: int64"
      ]
     },
     "execution_count": 50,
     "metadata": {},
     "output_type": "execute_result"
    }
   ],
   "source": [
    "df[df['platform'] == 'IT']['family'].value_counts(dropna = False).head()"
   ]
  },
  {
   "cell_type": "code",
   "execution_count": 51,
   "metadata": {},
   "outputs": [
    {
     "data": {
      "text/plain": [
       "Jardin piscine          2277\n",
       "Mobilier d'intérieur    2155\n",
       "Outillage               1761\n",
       "Luminaire                777\n",
       "Plomberie chauffage      683\n",
       "Name: family, dtype: int64"
      ]
     },
     "execution_count": 51,
     "metadata": {},
     "output_type": "execute_result"
    }
   ],
   "source": [
    "df[df['platform'] == 'ES']['family'].value_counts(dropna = False).head()"
   ]
  },
  {
   "cell_type": "code",
   "execution_count": 52,
   "metadata": {},
   "outputs": [
    {
     "data": {
      "text/plain": [
       "Mobilier d'intérieur    2616\n",
       "Jardin piscine          1938\n",
       "Salle de bain, WC        912\n",
       "Outillage                908\n",
       "Plomberie chauffage      768\n",
       "Name: family, dtype: int64"
      ]
     },
     "execution_count": 52,
     "metadata": {},
     "output_type": "execute_result"
    }
   ],
   "source": [
    "df[df['platform'] == 'GB']['family'].value_counts(dropna = False).head()"
   ]
  },
  {
   "cell_type": "code",
   "execution_count": 53,
   "metadata": {},
   "outputs": [
    {
     "data": {
      "text/plain": [
       "Jardin piscine          1237\n",
       "Outillage               1113\n",
       "Mobilier d'intérieur     672\n",
       "Salle de bain, WC        588\n",
       "Plomberie chauffage      425\n",
       "Name: family, dtype: int64"
      ]
     },
     "execution_count": 53,
     "metadata": {},
     "output_type": "execute_result"
    }
   ],
   "source": [
    "df[df['platform'] == 'DE']['family'].value_counts(dropna = False).head()"
   ]
  },
  {
   "cell_type": "code",
   "execution_count": 54,
   "metadata": {},
   "outputs": [
    {
     "data": {
      "text/plain": [
       "Jardin piscine            19675\n",
       "Outillage                 18555\n",
       "Mobilier d'intérieur      15000\n",
       "Plomberie chauffage        7806\n",
       "Salle de bain, WC          6664\n",
       "Quincaillerie              6638\n",
       "Electricité                6387\n",
       "Luminaire                  6116\n",
       "Animalerie                 2493\n",
       "Revêtement sol et mur      2279\n",
       "Cuisine                    2071\n",
       "Construction matériaux     1492\n",
       "Name: family, dtype: int64"
      ]
     },
     "execution_count": 54,
     "metadata": {},
     "output_type": "execute_result"
    }
   ],
   "source": [
    "df['family'].value_counts()"
   ]
  },
  {
   "cell_type": "code",
   "execution_count": 55,
   "metadata": {},
   "outputs": [
    {
     "data": {
      "text/plain": [
       "6.343079431306207"
      ]
     },
     "execution_count": 55,
     "metadata": {},
     "output_type": "execute_result"
    }
   ],
   "source": [
    "df['shipping_fees'][df['platform'] == 'FR'].mean() "
   ]
  },
  {
   "cell_type": "code",
   "execution_count": 56,
   "metadata": {},
   "outputs": [
    {
     "data": {
      "text/plain": [
       "4.744321611721612"
      ]
     },
     "execution_count": 56,
     "metadata": {},
     "output_type": "execute_result"
    }
   ],
   "source": [
    "df['shipping_fees'][df['platform'] == 'IT'].mean() "
   ]
  },
  {
   "cell_type": "code",
   "execution_count": 57,
   "metadata": {},
   "outputs": [
    {
     "data": {
      "text/plain": [
       "3.676918849965656"
      ]
     },
     "execution_count": 57,
     "metadata": {},
     "output_type": "execute_result"
    }
   ],
   "source": [
    "df['shipping_fees'][df['platform'] == 'ES'].mean() "
   ]
  },
  {
   "cell_type": "code",
   "execution_count": 58,
   "metadata": {},
   "outputs": [
    {
     "data": {
      "text/plain": [
       "0.6267552029435437"
      ]
     },
     "execution_count": 58,
     "metadata": {},
     "output_type": "execute_result"
    }
   ],
   "source": [
    "df['shipping_fees'][df['platform'] == 'GB'].mean() "
   ]
  },
  {
   "cell_type": "code",
   "execution_count": 59,
   "metadata": {},
   "outputs": [
    {
     "data": {
      "text/plain": [
       "2.332137118371719"
      ]
     },
     "execution_count": 59,
     "metadata": {},
     "output_type": "execute_result"
    }
   ],
   "source": [
    "df['shipping_fees'][df['platform'] == 'DE'].mean() "
   ]
  },
  {
   "cell_type": "markdown",
   "metadata": {},
   "source": [
    "# Sentiment analysis"
   ]
  },
  {
   "cell_type": "code",
   "execution_count": 60,
   "metadata": {},
   "outputs": [
    {
     "name": "stderr",
     "output_type": "stream",
     "text": [
      "[nltk_data] Downloading package punkt to\n",
      "[nltk_data]     C:\\Users\\Utilizador\\AppData\\Roaming\\nltk_data...\n",
      "[nltk_data]   Package punkt is already up-to-date!\n",
      "[nltk_data] Downloading package stopwords to\n",
      "[nltk_data]     C:\\Users\\Utilizador\\AppData\\Roaming\\nltk_data...\n",
      "[nltk_data]   Package stopwords is already up-to-date!\n"
     ]
    },
    {
     "data": {
      "text/plain": [
       "True"
      ]
     },
     "execution_count": 60,
     "metadata": {},
     "output_type": "execute_result"
    }
   ],
   "source": [
    "nltk.download('punkt')\n",
    "nltk.download('stopwords')"
   ]
  },
  {
   "cell_type": "code",
   "execution_count": 61,
   "metadata": {},
   "outputs": [],
   "source": [
    "stopwordsenglish = nltk.corpus.stopwords.words(\"english\")"
   ]
  },
  {
   "cell_type": "code",
   "execution_count": 62,
   "metadata": {},
   "outputs": [],
   "source": [
    "#I create this one from the originals so it contains the comments\n",
    "df_sentiment = pd.concat([df_aug , df_sep, df_oct, df_nov], ignore_index = True)"
   ]
  },
  {
   "cell_type": "code",
   "execution_count": 63,
   "metadata": {},
   "outputs": [],
   "source": [
    "df_sentiment['comment'].fillna('Unknown', inplace = True)"
   ]
  },
  {
   "cell_type": "code",
   "execution_count": 64,
   "metadata": {},
   "outputs": [
    {
     "data": {
      "text/plain": [
       "Unknown                                                                                        83675\n",
       "All right.                                                                                        79\n",
       "Simple and fast                                                                                   47\n",
       "I thought shipping costs were too expensive.                                                      43\n",
       "Easy and fast                                                                                     38\n",
       "                                                                                               ...  \n",
       "will do when we recieve them                                                                       1\n",
       "Convivial site.                                                                                    1\n",
       "No possibility of sorting products according to increasing price                                   1\n",
       "The confirmation e-mail of pro new account, does not reach me                                      1\n",
       "Pretty simple - but would be better if the delivery info was available on an earlier screen        1\n",
       "Name: comment, Length: 9923, dtype: int64"
      ]
     },
     "execution_count": 64,
     "metadata": {},
     "output_type": "execute_result"
    }
   ],
   "source": [
    "df_sentiment['comment'].value_counts(dropna = False)"
   ]
  },
  {
   "cell_type": "code",
   "execution_count": 65,
   "metadata": {},
   "outputs": [],
   "source": [
    "def func_clean(phrase):  \n",
    "  if phrase != 'Unknown':            \n",
    "    tokens = nltk.word_tokenize(phrase.lower())                                    \n",
    "    tokens_clean = []\n",
    "    for words in tokens:\n",
    "      if words not in stopwordsenglish and words not in string.punctuation:\n",
    "        tokens_clean += [words]\n",
    "    return \" \".join(tokens_clean)"
   ]
  },
  {
   "cell_type": "code",
   "execution_count": 66,
   "metadata": {},
   "outputs": [
    {
     "data": {
      "text/plain": [
       "'tables turned'"
      ]
     },
     "execution_count": 66,
     "metadata": {},
     "output_type": "execute_result"
    }
   ],
   "source": [
    "func_clean('My, my, how the tables have turned!')"
   ]
  },
  {
   "cell_type": "code",
   "execution_count": 67,
   "metadata": {},
   "outputs": [],
   "source": [
    "df_sentiment['sentiment'] = df['score'].apply(lambda x: 'bad' if x <= 6 else 'good')"
   ]
  },
  {
   "cell_type": "code",
   "execution_count": 68,
   "metadata": {},
   "outputs": [
    {
     "data": {
      "text/plain": [
       "10    49708\n",
       "9     18988\n",
       "8     15572\n",
       "7      5060\n",
       "6      1972\n",
       "5      1831\n",
       "4       528\n",
       "3       518\n",
       "2       397\n",
       "1       341\n",
       "0       267\n",
       "Name: score, dtype: int64"
      ]
     },
     "execution_count": 68,
     "metadata": {},
     "output_type": "execute_result"
    }
   ],
   "source": [
    "df_sentiment['score'].value_counts()"
   ]
  },
  {
   "cell_type": "code",
   "execution_count": 69,
   "metadata": {},
   "outputs": [
    {
     "data": {
      "text/plain": [
       "good    89328\n",
       "bad      5854\n",
       "Name: sentiment, dtype: int64"
      ]
     },
     "execution_count": 69,
     "metadata": {},
     "output_type": "execute_result"
    }
   ],
   "source": [
    "df_sentiment['sentiment'].value_counts()"
   ]
  },
  {
   "cell_type": "code",
   "execution_count": 70,
   "metadata": {},
   "outputs": [],
   "source": [
    "df_sentiment['tokenized'] = df_sentiment['comment'].apply(func_clean)"
   ]
  },
  {
   "cell_type": "code",
   "execution_count": 71,
   "metadata": {},
   "outputs": [
    {
     "data": {
      "text/plain": [
       "right                                                                                           86\n",
       "simple fast                                                                                     80\n",
       "easy fast                                                                                       73\n",
       "quick easy                                                                                      69\n",
       "easy order                                                                                      63\n",
       "                                                                                                ..\n",
       "hopefully succeeded ordering required product two girls online chat extremely helpful though     1\n",
       "hello easy order hey paypal top                                                                  1\n",
       "time                                                                                             1\n",
       "never problem site                                                                               1\n",
       "good attractive products                                                                         1\n",
       "Name: tokenized, Length: 9061, dtype: int64"
      ]
     },
     "execution_count": 71,
     "metadata": {},
     "output_type": "execute_result"
    }
   ],
   "source": [
    "df_sentiment['tokenized'].value_counts()"
   ]
  },
  {
   "cell_type": "code",
   "execution_count": 72,
   "metadata": {},
   "outputs": [],
   "source": [
    "df_sentiment2 = df_sentiment[['score','comment','reason', 'tokenized']]"
   ]
  },
  {
   "cell_type": "code",
   "execution_count": 73,
   "metadata": {},
   "outputs": [
    {
     "name": "stderr",
     "output_type": "stream",
     "text": [
      "C:\\Users\\UTILIZ~1\\AppData\\Local\\Temp/ipykernel_3372/4607244.py:1: SettingWithCopyWarning: \n",
      "A value is trying to be set on a copy of a slice from a DataFrame\n",
      "\n",
      "See the caveats in the documentation: https://pandas.pydata.org/pandas-docs/stable/user_guide/indexing.html#returning-a-view-versus-a-copy\n",
      "  df_sentiment2.dropna(inplace = True)\n"
     ]
    }
   ],
   "source": [
    "df_sentiment2.dropna(inplace = True)"
   ]
  },
  {
   "cell_type": "code",
   "execution_count": 74,
   "metadata": {},
   "outputs": [
    {
     "data": {
      "text/html": [
       "<div>\n",
       "<style scoped>\n",
       "    .dataframe tbody tr th:only-of-type {\n",
       "        vertical-align: middle;\n",
       "    }\n",
       "\n",
       "    .dataframe tbody tr th {\n",
       "        vertical-align: top;\n",
       "    }\n",
       "\n",
       "    .dataframe thead th {\n",
       "        text-align: right;\n",
       "    }\n",
       "</style>\n",
       "<table border=\"1\" class=\"dataframe\">\n",
       "  <thead>\n",
       "    <tr style=\"text-align: right;\">\n",
       "      <th></th>\n",
       "      <th>score</th>\n",
       "      <th>comment</th>\n",
       "      <th>reason</th>\n",
       "      <th>tokenized</th>\n",
       "    </tr>\n",
       "  </thead>\n",
       "  <tbody>\n",
       "    <tr>\n",
       "      <th>196</th>\n",
       "      <td>0</td>\n",
       "      <td>too high shipments</td>\n",
       "      <td>I costi di spedizione erano troppo elevati.</td>\n",
       "      <td>high shipments</td>\n",
       "    </tr>\n",
       "    <tr>\n",
       "      <th>243</th>\n",
       "      <td>5</td>\n",
       "      <td>Delivery costs too high</td>\n",
       "      <td>J’ai trouvé que les frais de port étaient trop...</td>\n",
       "      <td>delivery costs high</td>\n",
       "    </tr>\n",
       "    <tr>\n",
       "      <th>248</th>\n",
       "      <td>5</td>\n",
       "      <td>It says the delivery is free, when you pay, it...</td>\n",
       "      <td>J’ai manqué d’options pour me faire livrer</td>\n",
       "      <td>says delivery free pay gets paid 's cool</td>\n",
       "    </tr>\n",
       "    <tr>\n",
       "      <th>341</th>\n",
       "      <td>6</td>\n",
       "      <td>Phone number missing: would have liked to spea...</td>\n",
       "      <td>Mir fehlte ausreichende Beratung während meine...</td>\n",
       "      <td>phone number missing would liked speak adviser</td>\n",
       "    </tr>\n",
       "    <tr>\n",
       "      <th>355</th>\n",
       "      <td>6</td>\n",
       "      <td>No relay point possible</td>\n",
       "      <td>J’ai manqué d’options pour me faire livrer</td>\n",
       "      <td>relay point possible</td>\n",
       "    </tr>\n",
       "    <tr>\n",
       "      <th>...</th>\n",
       "      <td>...</td>\n",
       "      <td>...</td>\n",
       "      <td>...</td>\n",
       "      <td>...</td>\n",
       "    </tr>\n",
       "    <tr>\n",
       "      <th>94453</th>\n",
       "      <td>3</td>\n",
       "      <td>I didn't get enough advice during my purchase.</td>\n",
       "      <td>Non ho trovato le informazioni che cercavo sul...</td>\n",
       "      <td>n't get enough advice purchase</td>\n",
       "    </tr>\n",
       "    <tr>\n",
       "      <th>94897</th>\n",
       "      <td>6</td>\n",
       "      <td>It should be easier with paypal.</td>\n",
       "      <td>Mi método de pago favorito no estaba disponible</td>\n",
       "      <td>easier paypal</td>\n",
       "    </tr>\n",
       "    <tr>\n",
       "      <th>95047</th>\n",
       "      <td>0</td>\n",
       "      <td>the order billing address is wrong</td>\n",
       "      <td>No he recibido todo el consejo que necesitaba ...</td>\n",
       "      <td>order billing address wrong</td>\n",
       "    </tr>\n",
       "    <tr>\n",
       "      <th>95073</th>\n",
       "      <td>2</td>\n",
       "      <td>When I selected payment with pay pal I went wi...</td>\n",
       "      <td>He tenido un problema para conectarme a mi cue...</td>\n",
       "      <td>selected payment pay pal went transfer</td>\n",
       "    </tr>\n",
       "    <tr>\n",
       "      <th>95163</th>\n",
       "      <td>3</td>\n",
       "      <td>My payment method didn't work as planned.</td>\n",
       "      <td>Ho avuto problemi ad iscrivermi o ad accedere.</td>\n",
       "      <td>payment method n't work planned</td>\n",
       "    </tr>\n",
       "  </tbody>\n",
       "</table>\n",
       "<p>1136 rows × 4 columns</p>\n",
       "</div>"
      ],
      "text/plain": [
       "       score                                            comment  \\\n",
       "196        0                                 too high shipments   \n",
       "243        5                            Delivery costs too high   \n",
       "248        5  It says the delivery is free, when you pay, it...   \n",
       "341        6  Phone number missing: would have liked to spea...   \n",
       "355        6                            No relay point possible   \n",
       "...      ...                                                ...   \n",
       "94453      3     I didn't get enough advice during my purchase.   \n",
       "94897      6                   It should be easier with paypal.   \n",
       "95047      0                 the order billing address is wrong   \n",
       "95073      2  When I selected payment with pay pal I went wi...   \n",
       "95163      3          My payment method didn't work as planned.   \n",
       "\n",
       "                                                  reason  \\\n",
       "196          I costi di spedizione erano troppo elevati.   \n",
       "243    J’ai trouvé que les frais de port étaient trop...   \n",
       "248           J’ai manqué d’options pour me faire livrer   \n",
       "341    Mir fehlte ausreichende Beratung während meine...   \n",
       "355           J’ai manqué d’options pour me faire livrer   \n",
       "...                                                  ...   \n",
       "94453  Non ho trovato le informazioni che cercavo sul...   \n",
       "94897    Mi método de pago favorito no estaba disponible   \n",
       "95047  No he recibido todo el consejo que necesitaba ...   \n",
       "95073  He tenido un problema para conectarme a mi cue...   \n",
       "95163     Ho avuto problemi ad iscrivermi o ad accedere.   \n",
       "\n",
       "                                            tokenized  \n",
       "196                                    high shipments  \n",
       "243                               delivery costs high  \n",
       "248          says delivery free pay gets paid 's cool  \n",
       "341    phone number missing would liked speak adviser  \n",
       "355                              relay point possible  \n",
       "...                                               ...  \n",
       "94453                  n't get enough advice purchase  \n",
       "94897                                   easier paypal  \n",
       "95047                     order billing address wrong  \n",
       "95073          selected payment pay pal went transfer  \n",
       "95163                 payment method n't work planned  \n",
       "\n",
       "[1136 rows x 4 columns]"
      ]
     },
     "execution_count": 74,
     "metadata": {},
     "output_type": "execute_result"
    }
   ],
   "source": [
    "df_sentiment2"
   ]
  },
  {
   "cell_type": "markdown",
   "metadata": {},
   "source": [
    "## Wordcloud"
   ]
  },
  {
   "cell_type": "code",
   "execution_count": 75,
   "metadata": {},
   "outputs": [
    {
     "name": "stdout",
     "output_type": "stream",
     "text": [
      "Requirement already satisfied: wordcloud in c:\\users\\utilizador\\anaconda3\\envs\\safe space\\lib\\site-packages (1.8.1)\n",
      "Requirement already satisfied: pillow in c:\\users\\utilizador\\anaconda3\\envs\\safe space\\lib\\site-packages (from wordcloud) (8.4.0)\n",
      "Requirement already satisfied: numpy>=1.6.1 in c:\\users\\utilizador\\anaconda3\\envs\\safe space\\lib\\site-packages (from wordcloud) (1.16.6)\n",
      "Requirement already satisfied: matplotlib in c:\\users\\utilizador\\anaconda3\\envs\\safe space\\lib\\site-packages (from wordcloud) (3.4.3)\n",
      "Requirement already satisfied: cycler>=0.10 in c:\\users\\utilizador\\anaconda3\\envs\\safe space\\lib\\site-packages (from matplotlib->wordcloud) (0.11.0)\n",
      "Requirement already satisfied: python-dateutil>=2.7 in c:\\users\\utilizador\\anaconda3\\envs\\safe space\\lib\\site-packages (from matplotlib->wordcloud) (2.8.2)\n",
      "Requirement already satisfied: pyparsing>=2.2.1 in c:\\users\\utilizador\\anaconda3\\envs\\safe space\\lib\\site-packages (from matplotlib->wordcloud) (3.0.4)\n",
      "Requirement already satisfied: kiwisolver>=1.0.1 in c:\\users\\utilizador\\anaconda3\\envs\\safe space\\lib\\site-packages (from matplotlib->wordcloud) (1.3.1)\n",
      "Requirement already satisfied: six>=1.5 in c:\\users\\utilizador\\anaconda3\\envs\\safe space\\lib\\site-packages (from python-dateutil>=2.7->matplotlib->wordcloud) (1.16.0)\n"
     ]
    }
   ],
   "source": [
    "!pip install wordcloud"
   ]
  },
  {
   "cell_type": "code",
   "execution_count": 76,
   "metadata": {},
   "outputs": [],
   "source": [
    "from wordcloud import WordCloud"
   ]
  },
  {
   "cell_type": "code",
   "execution_count": 77,
   "metadata": {},
   "outputs": [],
   "source": [
    "wordcloud = WordCloud(width=480, height=480, max_font_size=200, min_font_size=10, background_color=\"royalblue\", colormap = 'Reds')"
   ]
  },
  {
   "cell_type": "code",
   "execution_count": 78,
   "metadata": {},
   "outputs": [
    {
     "ename": "TypeError",
     "evalue": "generate_from_text() missing 1 required positional argument: 'text'",
     "output_type": "error",
     "traceback": [
      "\u001b[1;31m---------------------------------------------------------------------------\u001b[0m",
      "\u001b[1;31mTypeError\u001b[0m                                 Traceback (most recent call last)",
      "\u001b[1;32mC:\\Users\\UTILIZ~1\\AppData\\Local\\Temp/ipykernel_3372/813996520.py\u001b[0m in \u001b[0;36m<module>\u001b[1;34m\u001b[0m\n\u001b[1;32m----> 1\u001b[1;33m \u001b[0mwordcloud\u001b[0m\u001b[1;33m.\u001b[0m\u001b[0mgenerate_from_text\u001b[0m\u001b[1;33m(\u001b[0m\u001b[1;33m)\u001b[0m\u001b[1;33m\u001b[0m\u001b[1;33m\u001b[0m\u001b[0m\n\u001b[0m\u001b[0;32m      2\u001b[0m \u001b[1;33m\u001b[0m\u001b[0m\n\u001b[0;32m      3\u001b[0m \u001b[0mplt\u001b[0m\u001b[1;33m.\u001b[0m\u001b[0mfigure\u001b[0m\u001b[1;33m(\u001b[0m\u001b[0mfigsize\u001b[0m \u001b[1;33m=\u001b[0m \u001b[1;33m(\u001b[0m\u001b[1;36m10\u001b[0m\u001b[1;33m,\u001b[0m \u001b[1;36m6\u001b[0m\u001b[1;33m)\u001b[0m\u001b[1;33m)\u001b[0m\u001b[1;33m\u001b[0m\u001b[1;33m\u001b[0m\u001b[0m\n\u001b[0;32m      4\u001b[0m \u001b[0mplt\u001b[0m\u001b[1;33m.\u001b[0m\u001b[0mimshow\u001b[0m\u001b[1;33m(\u001b[0m\u001b[0mwordcloud\u001b[0m\u001b[1;33m,\u001b[0m \u001b[0minterpolation\u001b[0m\u001b[1;33m=\u001b[0m\u001b[1;34m\"bilinear\"\u001b[0m\u001b[1;33m)\u001b[0m\u001b[1;33m\u001b[0m\u001b[1;33m\u001b[0m\u001b[0m\n\u001b[0;32m      5\u001b[0m \u001b[0mplt\u001b[0m\u001b[1;33m.\u001b[0m\u001b[0maxis\u001b[0m\u001b[1;33m(\u001b[0m\u001b[1;34m\"off\"\u001b[0m\u001b[1;33m)\u001b[0m\u001b[1;33m\u001b[0m\u001b[1;33m\u001b[0m\u001b[0m\n",
      "\u001b[1;31mTypeError\u001b[0m: generate_from_text() missing 1 required positional argument: 'text'"
     ]
    }
   ],
   "source": [
    "wordcloud.generate_from_text()\n",
    "\n",
    "plt.figure(figsize = (10, 6))\n",
    "plt.imshow(wordcloud, interpolation=\"bilinear\")\n",
    "plt.axis(\"off\")\n",
    "plt.margins(x=0, y=0)\n",
    "plt.show()"
   ]
  }
 ],
 "metadata": {
  "interpreter": {
   "hash": "9551cd33bf16c35239638d01283791bf06f66b16b64b8c1df3bd1173c0151abf"
  },
  "kernelspec": {
   "display_name": "Python 3.8.12 64-bit ('Safe space': conda)",
   "language": "python",
   "name": "python3"
  },
  "language_info": {
   "codemirror_mode": {
    "name": "ipython",
    "version": 3
   },
   "file_extension": ".py",
   "mimetype": "text/x-python",
   "name": "python",
   "nbconvert_exporter": "python",
   "pygments_lexer": "ipython3",
   "version": "3.8.12"
  },
  "orig_nbformat": 4
 },
 "nbformat": 4,
 "nbformat_minor": 2
}
