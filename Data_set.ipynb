{
 "cells": [
  {
   "cell_type": "code",
   "execution_count": 1,
   "metadata": {},
   "outputs": [],
   "source": [
    "import pandas as pd\n",
    "import numpy as np"
   ]
  },
  {
   "cell_type": "code",
   "execution_count": 2,
   "metadata": {},
   "outputs": [
    {
     "name": "stderr",
     "output_type": "stream",
     "text": [
      "C:\\Users\\Utilizador\\anaconda3\\envs\\Safe space\\lib\\site-packages\\IPython\\core\\interactiveshell.py:3172: DtypeWarning: Columns (13) have mixed types.Specify dtype option on import or set low_memory=False.\n",
      "  has_raised = await self.run_ast_nodes(code_ast.body, cell_name,\n"
     ]
    }
   ],
   "source": [
    "df_august = pd.read_csv('C:/Users/Utilizador/Documents/GitHub/wild-git/Hackathon-Mano-Mano/August.csv')"
   ]
  },
  {
   "cell_type": "code",
   "execution_count": 5,
   "metadata": {},
   "outputs": [
    {
     "data": {
      "text/plain": [
       "id                            0\n",
       "comment                   14446\n",
       "original_comment          14157\n",
       "score                         0\n",
       "data_scale                    0\n",
       "data_source                   0\n",
       "created_at                    0\n",
       "date                          0\n",
       "day                           0\n",
       "month                         0\n",
       "is_mf                         0\n",
       "device                        0\n",
       "family                        1\n",
       "is_b2b                        8\n",
       "reason                    16977\n",
       "browser                       0\n",
       "zipcode                       0\n",
       "category                      1\n",
       "language                      0\n",
       "platform                      0\n",
       "provider                      1\n",
       "first_order                   0\n",
       "nb_articles                   0\n",
       "csat_presales                 0\n",
       "shipping_fees                 0\n",
       "bv_transaction                0\n",
       "payment_method                0\n",
       "operating_system              0\n",
       "last_paid_channel           103\n",
       "has_presales_contact          0\n",
       "shipping_fees_bucket          0\n",
       "bv_transaction_bucket         0\n",
       "has_manodvisor_contact        0\n",
       "themes                    14446\n",
       "tags                      16974\n",
       "dtype: int64"
      ]
     },
     "execution_count": 5,
     "metadata": {},
     "output_type": "execute_result"
    }
   ],
   "source": [
    "df_august.isna().sum()"
   ]
  }
 ],
 "metadata": {
  "interpreter": {
   "hash": "9551cd33bf16c35239638d01283791bf06f66b16b64b8c1df3bd1173c0151abf"
  },
  "kernelspec": {
   "display_name": "Python 3.8.12 64-bit ('Safe space': conda)",
   "language": "python",
   "name": "python3"
  },
  "language_info": {
   "codemirror_mode": {
    "name": "ipython",
    "version": 3
   },
   "file_extension": ".py",
   "mimetype": "text/x-python",
   "name": "python",
   "nbconvert_exporter": "python",
   "pygments_lexer": "ipython3",
   "version": "3.8.12"
  },
  "orig_nbformat": 4
 },
 "nbformat": 4,
 "nbformat_minor": 2
}
