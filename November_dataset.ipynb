{
 "cells": [
  {
   "cell_type": "markdown",
   "metadata": {},
   "source": [
    "# **Imports and checking dataframe**"
   ]
  },
  {
   "cell_type": "code",
   "execution_count": 2,
   "metadata": {},
   "outputs": [],
   "source": [
    "import pandas as pd\n",
    "import numpy as np\n",
    "import seaborn as sns\n",
    "import matplotlib.pyplot as plt"
   ]
  },
  {
   "cell_type": "code",
   "execution_count": 3,
   "metadata": {},
   "outputs": [
    {
     "name": "stderr",
     "output_type": "stream",
     "text": [
      "C:\\Users\\Utilizador\\anaconda3\\envs\\Safe space\\lib\\site-packages\\IPython\\core\\interactiveshell.py:3172: DtypeWarning: Columns (13) have mixed types.Specify dtype option on import or set low_memory=False.\n",
      "  has_raised = await self.run_ast_nodes(code_ast.body, cell_name,\n"
     ]
    }
   ],
   "source": [
    "df_august = pd.read_csv('C:/Users/Utilizador/Documents/GitHub/wild-git/Hackathon-Mano-Mano/August.csv')\n",
    "df_september = pd.read_csv('C:/Users/Utilizador/Documents/GitHub/wild-git/Hackathon-Mano-Mano/September.csv')\n",
    "df_october = pd.read_csv('C:/Users/Utilizador/Documents/GitHub/wild-git/Hackathon-Mano-Mano/October.csv')\n",
    "df_november = pd.read_csv('C:/Users/Utilizador/Documents/GitHub/wild-git/Hackathon-Mano-Mano/November.csv')"
   ]
  },
  {
   "cell_type": "code",
   "execution_count": 4,
   "metadata": {},
   "outputs": [
    {
     "data": {
      "text/plain": [
       "Index(['id', 'comment', 'original_comment', 'score', 'data_scale',\n",
       "       'data_source', 'created_at', 'date', 'day', 'month', 'is_mf', 'device',\n",
       "       'family', 'is_b2b', 'reason', 'browser', 'category', 'language',\n",
       "       'platform', 'provider', 'first_order', 'nb_articles', 'csat_presales',\n",
       "       'shipping_fees', 'bv_transaction', 'payment_method', 'operating_system',\n",
       "       'last_paid_channel', 'has_presales_contact', 'shipping_fees_bucket',\n",
       "       'bv_transaction_bucket', 'has_manodvisor_contact', 'themes', 'tags'],\n",
       "      dtype='object')"
      ]
     },
     "execution_count": 4,
     "metadata": {},
     "output_type": "execute_result"
    }
   ],
   "source": [
    "df_november.columns"
   ]
  },
  {
   "cell_type": "code",
   "execution_count": 5,
   "metadata": {},
   "outputs": [
    {
     "data": {
      "text/html": [
       "<div>\n",
       "<style scoped>\n",
       "    .dataframe tbody tr th:only-of-type {\n",
       "        vertical-align: middle;\n",
       "    }\n",
       "\n",
       "    .dataframe tbody tr th {\n",
       "        vertical-align: top;\n",
       "    }\n",
       "\n",
       "    .dataframe thead th {\n",
       "        text-align: right;\n",
       "    }\n",
       "</style>\n",
       "<table border=\"1\" class=\"dataframe\">\n",
       "  <thead>\n",
       "    <tr style=\"text-align: right;\">\n",
       "      <th></th>\n",
       "      <th>id</th>\n",
       "      <th>comment</th>\n",
       "      <th>original_comment</th>\n",
       "      <th>score</th>\n",
       "      <th>data_scale</th>\n",
       "      <th>data_source</th>\n",
       "      <th>created_at</th>\n",
       "      <th>date</th>\n",
       "      <th>day</th>\n",
       "      <th>month</th>\n",
       "      <th>...</th>\n",
       "      <th>bv_transaction</th>\n",
       "      <th>payment_method</th>\n",
       "      <th>operating_system</th>\n",
       "      <th>last_paid_channel</th>\n",
       "      <th>has_presales_contact</th>\n",
       "      <th>shipping_fees_bucket</th>\n",
       "      <th>bv_transaction_bucket</th>\n",
       "      <th>has_manodvisor_contact</th>\n",
       "      <th>themes</th>\n",
       "      <th>tags</th>\n",
       "    </tr>\n",
       "  </thead>\n",
       "  <tbody>\n",
       "    <tr>\n",
       "      <th>2744</th>\n",
       "      <td>349376886</td>\n",
       "      <td>NaN</td>\n",
       "      <td>NaN</td>\n",
       "      <td>8</td>\n",
       "      <td>NPS</td>\n",
       "      <td>Customer Effort Score</td>\n",
       "      <td>2021-11-03T18:47:40.000Z</td>\n",
       "      <td>2021-11-03</td>\n",
       "      <td>Wednesday</td>\n",
       "      <td>November</td>\n",
       "      <td>...</td>\n",
       "      <td>6207.95</td>\n",
       "      <td>visa</td>\n",
       "      <td>Mac OS X 10.15.7</td>\n",
       "      <td>SEM</td>\n",
       "      <td>False</td>\n",
       "      <td>101 - 500</td>\n",
       "      <td>2000 +</td>\n",
       "      <td>False</td>\n",
       "      <td>NaN</td>\n",
       "      <td>NaN</td>\n",
       "    </tr>\n",
       "    <tr>\n",
       "      <th>31578</th>\n",
       "      <td>369052499</td>\n",
       "      <td>NaN</td>\n",
       "      <td>NaN</td>\n",
       "      <td>10</td>\n",
       "      <td>NPS</td>\n",
       "      <td>Customer Effort Score</td>\n",
       "      <td>2021-11-29T19:53:25.000Z</td>\n",
       "      <td>2021-11-29</td>\n",
       "      <td>Monday</td>\n",
       "      <td>November</td>\n",
       "      <td>...</td>\n",
       "      <td>5486.28</td>\n",
       "      <td>visa</td>\n",
       "      <td>Windows 10</td>\n",
       "      <td>SEM</td>\n",
       "      <td>False</td>\n",
       "      <td>20 - 50</td>\n",
       "      <td>2000 +</td>\n",
       "      <td>False</td>\n",
       "      <td>NaN</td>\n",
       "      <td>NaN</td>\n",
       "    </tr>\n",
       "    <tr>\n",
       "      <th>8271</th>\n",
       "      <td>355257735</td>\n",
       "      <td>NaN</td>\n",
       "      <td>NaN</td>\n",
       "      <td>8</td>\n",
       "      <td>NPS</td>\n",
       "      <td>Customer Effort Score</td>\n",
       "      <td>2021-11-09T12:44:04.000Z</td>\n",
       "      <td>2021-11-09</td>\n",
       "      <td>Tuesday</td>\n",
       "      <td>November</td>\n",
       "      <td>...</td>\n",
       "      <td>4929.08</td>\n",
       "      <td>transfer</td>\n",
       "      <td>Windows 10</td>\n",
       "      <td>NaN</td>\n",
       "      <td>False</td>\n",
       "      <td>51 - 100</td>\n",
       "      <td>2000 +</td>\n",
       "      <td>False</td>\n",
       "      <td>NaN</td>\n",
       "      <td>NaN</td>\n",
       "    </tr>\n",
       "    <tr>\n",
       "      <th>8066</th>\n",
       "      <td>355260060</td>\n",
       "      <td>NaN</td>\n",
       "      <td>NaN</td>\n",
       "      <td>10</td>\n",
       "      <td>NPS</td>\n",
       "      <td>Customer Effort Score</td>\n",
       "      <td>2021-11-09T09:15:10.000Z</td>\n",
       "      <td>2021-11-09</td>\n",
       "      <td>Tuesday</td>\n",
       "      <td>November</td>\n",
       "      <td>...</td>\n",
       "      <td>4928.88</td>\n",
       "      <td>visa</td>\n",
       "      <td>Mac OS X 10.14.6</td>\n",
       "      <td>EMAIL</td>\n",
       "      <td>False</td>\n",
       "      <td>51 - 100</td>\n",
       "      <td>2000 +</td>\n",
       "      <td>False</td>\n",
       "      <td>NaN</td>\n",
       "      <td>NaN</td>\n",
       "    </tr>\n",
       "    <tr>\n",
       "      <th>3731</th>\n",
       "      <td>349377920</td>\n",
       "      <td>NaN</td>\n",
       "      <td>NaN</td>\n",
       "      <td>10</td>\n",
       "      <td>NPS</td>\n",
       "      <td>Customer Effort Score</td>\n",
       "      <td>2021-11-04T18:47:01.000Z</td>\n",
       "      <td>2021-11-04</td>\n",
       "      <td>Thursday</td>\n",
       "      <td>November</td>\n",
       "      <td>...</td>\n",
       "      <td>4754.00</td>\n",
       "      <td>visa</td>\n",
       "      <td>iOS 14.8</td>\n",
       "      <td>DIRECT_ACCESS</td>\n",
       "      <td>False</td>\n",
       "      <td>0</td>\n",
       "      <td>2000 +</td>\n",
       "      <td>False</td>\n",
       "      <td>NaN</td>\n",
       "      <td>NaN</td>\n",
       "    </tr>\n",
       "  </tbody>\n",
       "</table>\n",
       "<p>5 rows × 34 columns</p>\n",
       "</div>"
      ],
      "text/plain": [
       "              id comment original_comment  score data_scale  \\\n",
       "2744   349376886     NaN              NaN      8        NPS   \n",
       "31578  369052499     NaN              NaN     10        NPS   \n",
       "8271   355257735     NaN              NaN      8        NPS   \n",
       "8066   355260060     NaN              NaN     10        NPS   \n",
       "3731   349377920     NaN              NaN     10        NPS   \n",
       "\n",
       "                 data_source                created_at        date        day  \\\n",
       "2744   Customer Effort Score  2021-11-03T18:47:40.000Z  2021-11-03  Wednesday   \n",
       "31578  Customer Effort Score  2021-11-29T19:53:25.000Z  2021-11-29     Monday   \n",
       "8271   Customer Effort Score  2021-11-09T12:44:04.000Z  2021-11-09    Tuesday   \n",
       "8066   Customer Effort Score  2021-11-09T09:15:10.000Z  2021-11-09    Tuesday   \n",
       "3731   Customer Effort Score  2021-11-04T18:47:01.000Z  2021-11-04   Thursday   \n",
       "\n",
       "          month  ...  bv_transaction payment_method  operating_system  \\\n",
       "2744   November  ...         6207.95           visa  Mac OS X 10.15.7   \n",
       "31578  November  ...         5486.28           visa        Windows 10   \n",
       "8271   November  ...         4929.08       transfer        Windows 10   \n",
       "8066   November  ...         4928.88           visa  Mac OS X 10.14.6   \n",
       "3731   November  ...         4754.00           visa          iOS 14.8   \n",
       "\n",
       "      last_paid_channel has_presales_contact shipping_fees_bucket  \\\n",
       "2744                SEM                False            101 - 500   \n",
       "31578               SEM                False              20 - 50   \n",
       "8271                NaN                False             51 - 100   \n",
       "8066              EMAIL                False             51 - 100   \n",
       "3731      DIRECT_ACCESS                False                    0   \n",
       "\n",
       "      bv_transaction_bucket has_manodvisor_contact themes tags  \n",
       "2744                 2000 +                  False    NaN  NaN  \n",
       "31578                2000 +                  False    NaN  NaN  \n",
       "8271                 2000 +                  False    NaN  NaN  \n",
       "8066                 2000 +                  False    NaN  NaN  \n",
       "3731                 2000 +                  False    NaN  NaN  \n",
       "\n",
       "[5 rows x 34 columns]"
      ]
     },
     "execution_count": 5,
     "metadata": {},
     "output_type": "execute_result"
    }
   ],
   "source": [
    "df_november.sort_values(by=['bv_transaction'], ascending = False).head()"
   ]
  },
  {
   "cell_type": "code",
   "execution_count": 6,
   "metadata": {},
   "outputs": [
    {
     "data": {
      "text/html": [
       "<div>\n",
       "<style scoped>\n",
       "    .dataframe tbody tr th:only-of-type {\n",
       "        vertical-align: middle;\n",
       "    }\n",
       "\n",
       "    .dataframe tbody tr th {\n",
       "        vertical-align: top;\n",
       "    }\n",
       "\n",
       "    .dataframe thead th {\n",
       "        text-align: right;\n",
       "    }\n",
       "</style>\n",
       "<table border=\"1\" class=\"dataframe\">\n",
       "  <thead>\n",
       "    <tr style=\"text-align: right;\">\n",
       "      <th></th>\n",
       "      <th>id</th>\n",
       "      <th>comment</th>\n",
       "      <th>original_comment</th>\n",
       "      <th>score</th>\n",
       "      <th>data_scale</th>\n",
       "      <th>data_source</th>\n",
       "      <th>created_at</th>\n",
       "      <th>date</th>\n",
       "      <th>day</th>\n",
       "      <th>month</th>\n",
       "      <th>...</th>\n",
       "      <th>bv_transaction</th>\n",
       "      <th>payment_method</th>\n",
       "      <th>operating_system</th>\n",
       "      <th>last_paid_channel</th>\n",
       "      <th>has_presales_contact</th>\n",
       "      <th>shipping_fees_bucket</th>\n",
       "      <th>bv_transaction_bucket</th>\n",
       "      <th>has_manodvisor_contact</th>\n",
       "      <th>themes</th>\n",
       "      <th>tags</th>\n",
       "    </tr>\n",
       "  </thead>\n",
       "  <tbody>\n",
       "    <tr>\n",
       "      <th>30958</th>\n",
       "      <td>369043447</td>\n",
       "      <td>NaN</td>\n",
       "      <td>NaN</td>\n",
       "      <td>0</td>\n",
       "      <td>NPS</td>\n",
       "      <td>Customer Effort Score</td>\n",
       "      <td>2021-11-29T14:22:05.000Z</td>\n",
       "      <td>2021-11-29</td>\n",
       "      <td>Monday</td>\n",
       "      <td>November</td>\n",
       "      <td>...</td>\n",
       "      <td>3448.50</td>\n",
       "      <td>transfer</td>\n",
       "      <td>Windows 10</td>\n",
       "      <td>NaN</td>\n",
       "      <td>False</td>\n",
       "      <td>0</td>\n",
       "      <td>2000 +</td>\n",
       "      <td>True</td>\n",
       "      <td>NaN</td>\n",
       "      <td>Detractor '- Difficulty Paying</td>\n",
       "    </tr>\n",
       "    <tr>\n",
       "      <th>27061</th>\n",
       "      <td>362422630</td>\n",
       "      <td>NaN</td>\n",
       "      <td>NaN</td>\n",
       "      <td>9</td>\n",
       "      <td>NPS</td>\n",
       "      <td>Customer Effort Score</td>\n",
       "      <td>2021-11-26T15:21:44.000Z</td>\n",
       "      <td>2021-11-26</td>\n",
       "      <td>Friday</td>\n",
       "      <td>November</td>\n",
       "      <td>...</td>\n",
       "      <td>909.30</td>\n",
       "      <td>mastercard</td>\n",
       "      <td>Windows 10</td>\n",
       "      <td>SHOPBOT</td>\n",
       "      <td>False</td>\n",
       "      <td>0</td>\n",
       "      <td>801 - 1000</td>\n",
       "      <td>True</td>\n",
       "      <td>NaN</td>\n",
       "      <td>NaN</td>\n",
       "    </tr>\n",
       "    <tr>\n",
       "      <th>27642</th>\n",
       "      <td>362424637</td>\n",
       "      <td>NaN</td>\n",
       "      <td>NaN</td>\n",
       "      <td>10</td>\n",
       "      <td>NPS</td>\n",
       "      <td>Customer Effort Score</td>\n",
       "      <td>2021-11-26T22:02:28.000Z</td>\n",
       "      <td>2021-11-26</td>\n",
       "      <td>Friday</td>\n",
       "      <td>November</td>\n",
       "      <td>...</td>\n",
       "      <td>449.34</td>\n",
       "      <td>mastercard</td>\n",
       "      <td>Windows 10</td>\n",
       "      <td>DIRECT_ACCESS</td>\n",
       "      <td>False</td>\n",
       "      <td>0</td>\n",
       "      <td>401 - 500</td>\n",
       "      <td>True</td>\n",
       "      <td>NaN</td>\n",
       "      <td>NaN</td>\n",
       "    </tr>\n",
       "    <tr>\n",
       "      <th>10221</th>\n",
       "      <td>355269076</td>\n",
       "      <td>NaN</td>\n",
       "      <td>NaN</td>\n",
       "      <td>10</td>\n",
       "      <td>NPS</td>\n",
       "      <td>Customer Effort Score</td>\n",
       "      <td>2021-11-11T12:35:05.000Z</td>\n",
       "      <td>2021-11-11</td>\n",
       "      <td>Thursday</td>\n",
       "      <td>November</td>\n",
       "      <td>...</td>\n",
       "      <td>440.24</td>\n",
       "      <td>visa</td>\n",
       "      <td>Windows 10</td>\n",
       "      <td>SHOPBOT</td>\n",
       "      <td>False</td>\n",
       "      <td>20 - 50</td>\n",
       "      <td>401 - 500</td>\n",
       "      <td>True</td>\n",
       "      <td>NaN</td>\n",
       "      <td>NaN</td>\n",
       "    </tr>\n",
       "    <tr>\n",
       "      <th>23176</th>\n",
       "      <td>362417503</td>\n",
       "      <td>NaN</td>\n",
       "      <td>NaN</td>\n",
       "      <td>8</td>\n",
       "      <td>NPS</td>\n",
       "      <td>Customer Effort Score</td>\n",
       "      <td>2021-11-23T13:50:11.000Z</td>\n",
       "      <td>2021-11-23</td>\n",
       "      <td>Tuesday</td>\n",
       "      <td>November</td>\n",
       "      <td>...</td>\n",
       "      <td>394.96</td>\n",
       "      <td>paypal</td>\n",
       "      <td>Windows 10</td>\n",
       "      <td>DIRECT_ACCESS</td>\n",
       "      <td>True</td>\n",
       "      <td>101 - 500</td>\n",
       "      <td>301 - 400</td>\n",
       "      <td>True</td>\n",
       "      <td>NaN</td>\n",
       "      <td>NaN</td>\n",
       "    </tr>\n",
       "  </tbody>\n",
       "</table>\n",
       "<p>5 rows × 34 columns</p>\n",
       "</div>"
      ],
      "text/plain": [
       "              id comment original_comment  score data_scale  \\\n",
       "30958  369043447     NaN              NaN      0        NPS   \n",
       "27061  362422630     NaN              NaN      9        NPS   \n",
       "27642  362424637     NaN              NaN     10        NPS   \n",
       "10221  355269076     NaN              NaN     10        NPS   \n",
       "23176  362417503     NaN              NaN      8        NPS   \n",
       "\n",
       "                 data_source                created_at        date       day  \\\n",
       "30958  Customer Effort Score  2021-11-29T14:22:05.000Z  2021-11-29    Monday   \n",
       "27061  Customer Effort Score  2021-11-26T15:21:44.000Z  2021-11-26    Friday   \n",
       "27642  Customer Effort Score  2021-11-26T22:02:28.000Z  2021-11-26    Friday   \n",
       "10221  Customer Effort Score  2021-11-11T12:35:05.000Z  2021-11-11  Thursday   \n",
       "23176  Customer Effort Score  2021-11-23T13:50:11.000Z  2021-11-23   Tuesday   \n",
       "\n",
       "          month  ...  bv_transaction payment_method operating_system  \\\n",
       "30958  November  ...         3448.50       transfer       Windows 10   \n",
       "27061  November  ...          909.30     mastercard       Windows 10   \n",
       "27642  November  ...          449.34     mastercard       Windows 10   \n",
       "10221  November  ...          440.24           visa       Windows 10   \n",
       "23176  November  ...          394.96         paypal       Windows 10   \n",
       "\n",
       "      last_paid_channel has_presales_contact shipping_fees_bucket  \\\n",
       "30958               NaN                False                    0   \n",
       "27061           SHOPBOT                False                    0   \n",
       "27642     DIRECT_ACCESS                False                    0   \n",
       "10221           SHOPBOT                False              20 - 50   \n",
       "23176     DIRECT_ACCESS                 True            101 - 500   \n",
       "\n",
       "      bv_transaction_bucket has_manodvisor_contact themes  \\\n",
       "30958                2000 +                   True    NaN   \n",
       "27061            801 - 1000                   True    NaN   \n",
       "27642             401 - 500                   True    NaN   \n",
       "10221             401 - 500                   True    NaN   \n",
       "23176             301 - 400                   True    NaN   \n",
       "\n",
       "                                 tags  \n",
       "30958  Detractor '- Difficulty Paying  \n",
       "27061                             NaN  \n",
       "27642                             NaN  \n",
       "10221                             NaN  \n",
       "23176                             NaN  \n",
       "\n",
       "[5 rows x 34 columns]"
      ]
     },
     "execution_count": 6,
     "metadata": {},
     "output_type": "execute_result"
    }
   ],
   "source": [
    "df_november[df_november['has_manodvisor_contact'] == True].sort_values(by = ['bv_transaction'], ascending=False).head()"
   ]
  },
  {
   "cell_type": "code",
   "execution_count": 7,
   "metadata": {},
   "outputs": [],
   "source": [
    "#Creating a dataframe for the heatmap\n",
    "df_heatmap = df_november.copy()\n",
    "df_heatmap['is_b2b'] = df_heatmap['is_b2b'].factorize()[0]\n",
    "df_heatmap = pd.get_dummies(df_heatmap, columns = ['device'])"
   ]
  },
  {
   "cell_type": "code",
   "execution_count": 8,
   "metadata": {},
   "outputs": [
    {
     "data": {
      "text/plain": [
       " 0    26516\n",
       " 1     5937\n",
       "-1      547\n",
       "Name: is_b2b, dtype: int64"
      ]
     },
     "execution_count": 8,
     "metadata": {},
     "output_type": "execute_result"
    }
   ],
   "source": [
    "df_heatmap.is_b2b.value_counts()               #0 for False, 1 for True, -1 for Nan"
   ]
  },
  {
   "cell_type": "code",
   "execution_count": 9,
   "metadata": {},
   "outputs": [
    {
     "data": {
      "image/png": "[encoded data removed]",
      "text/plain": [
       "<Figure size 864x576 with 2 Axes>"
      ]
     },
     "metadata": {
      "needs_background": "light"
     },
     "output_type": "display_data"
    }
   ],
   "source": [
    "#Heatmap is here\n",
    "\n",
    "plt.figure(figsize =  (12,8))\n",
    "sns.heatmap(df_heatmap.corr(), center = 0, vmin = -1, cmap = 'Blues', annot = True)\n",
    "plt.show()"
   ]
  },
  {
   "cell_type": "markdown",
   "metadata": {},
   "source": [
    "# **Data Viz**"
   ]
  },
  {
   "cell_type": "markdown",
   "metadata": {},
   "source": [
    "## Most sold category/family"
   ]
  },
  {
   "cell_type": "code",
   "execution_count": 10,
   "metadata": {},
   "outputs": [
    {
     "data": {
      "text/plain": [
       "Chauffage et climatisation              1935\n",
       "Matériel et aménagement de l'atelier    1874\n",
       "Outillage électroportatif               1414\n",
       "Eclairage d'intérieur                   1333\n",
       "Décoration                              1215\n",
       "Name: category, dtype: int64"
      ]
     },
     "execution_count": 10,
     "metadata": {},
     "output_type": "execute_result"
    }
   ],
   "source": [
    "df_november['category'].value_counts(dropna = False).head()\n",
    "#1 - Heating and air conditioning\n",
    "#2 - Workshop equipment and storage\n",
    "#3 - Power tools\n",
    "#4 - Indoor lighting\n",
    "#5 - Décor"
   ]
  },
  {
   "cell_type": "code",
   "execution_count": 11,
   "metadata": {},
   "outputs": [
    {
     "data": {
      "text/plain": [
       "Reptiles et insectes pour terrarium    6\n",
       "NaN                                    5\n",
       "Apiculture                             4\n",
       "Réseaux                                3\n",
       "Cuisine et accessoire                  3\n",
       "Name: category, dtype: int64"
      ]
     },
     "execution_count": 11,
     "metadata": {},
     "output_type": "execute_result"
    }
   ],
   "source": [
    "df_november['category'].value_counts(dropna = False).tail()"
   ]
  },
  {
   "cell_type": "code",
   "execution_count": 12,
   "metadata": {},
   "outputs": [
    {
     "data": {
      "text/plain": [
       "Outillage               6959\n",
       "Mobilier d'intérieur    5771\n",
       "Jardin piscine          5081\n",
       "Plomberie chauffage     3018\n",
       "Luminaire               2655\n",
       "Name: family, dtype: int64"
      ]
     },
     "execution_count": 12,
     "metadata": {},
     "output_type": "execute_result"
    }
   ],
   "source": [
    "df_november['family'].value_counts(dropna = False).head()\n",
    "#1 - Tools\n",
    "#2 - Home and living\n",
    "#3 - Garden and outdoor\n",
    "#4 - Heating and plumbing\n",
    "#5 - Lighting"
   ]
  },
  {
   "cell_type": "markdown",
   "metadata": {},
   "source": [
    "## Most common complaints"
   ]
  },
  {
   "cell_type": "code",
   "execution_count": 13,
   "metadata": {},
   "outputs": [
    {
     "data": {
      "text/plain": [
       "J’ai trouvé que les frais de port étaient trop chers                    192\n",
       "J’ai eu des difficultés à m'inscrire ou à me connecter                  143\n",
       "J'ai eu des difficultés à payer avec les moyens de paiement proposés    104\n",
       "J’ai manqué d’options pour me faire livrer                               94\n",
       "Je n’ai pas trouvé facilement les produits que je cherchais              85\n",
       "Name: reason, dtype: int64"
      ]
     },
     "execution_count": 13,
     "metadata": {},
     "output_type": "execute_result"
    }
   ],
   "source": [
    "df_november['reason'].value_counts().head()\n",
    "#1 - Shipping fees too expensive\n",
    "#2 - Difficulty in registering/signing up\n",
    "#3 - Difficulties in payment with the proposed payment methods\n",
    "#4 - Ran out of options for delivery\n",
    "#5 - I couldn't easily find the products I was looking for"
   ]
  },
  {
   "cell_type": "code",
   "execution_count": 14,
   "metadata": {},
   "outputs": [],
   "source": [
    "df_comments1 = pd.DataFrame(df_november['comment'][df_november['reason'] == 'J’ai trouvé que les frais de port étaient trop chers'])"
   ]
  },
  {
   "cell_type": "code",
   "execution_count": 15,
   "metadata": {},
   "outputs": [
    {
     "data": {
      "text/html": [
       "<div>\n",
       "<style scoped>\n",
       "    .dataframe tbody tr th:only-of-type {\n",
       "        vertical-align: middle;\n",
       "    }\n",
       "\n",
       "    .dataframe tbody tr th {\n",
       "        vertical-align: top;\n",
       "    }\n",
       "\n",
       "    .dataframe thead th {\n",
       "        text-align: right;\n",
       "    }\n",
       "</style>\n",
       "<table border=\"1\" class=\"dataframe\">\n",
       "  <thead>\n",
       "    <tr style=\"text-align: right;\">\n",
       "      <th></th>\n",
       "      <th>comment</th>\n",
       "    </tr>\n",
       "  </thead>\n",
       "  <tbody>\n",
       "    <tr>\n",
       "      <th>211</th>\n",
       "      <td>I found it difficult to find complementary or ...</td>\n",
       "    </tr>\n",
       "    <tr>\n",
       "      <th>409</th>\n",
       "      <td>I had trouble using my promo code.</td>\n",
       "    </tr>\n",
       "    <tr>\n",
       "      <th>456</th>\n",
       "      <td>Free shipping!!! upon arrival 9€ delivery for ...</td>\n",
       "    </tr>\n",
       "    <tr>\n",
       "      <th>677</th>\n",
       "      <td>relay point as expensive as home</td>\n",
       "    </tr>\n",
       "    <tr>\n",
       "      <th>813</th>\n",
       "      <td>Shipping costs for each item please combine th...</td>\n",
       "    </tr>\n",
       "    <tr>\n",
       "      <th>884</th>\n",
       "      <td>I had difficulty registering or logging in</td>\n",
       "    </tr>\n",
       "    <tr>\n",
       "      <th>968</th>\n",
       "      <td>I ran out of options to get delivered.</td>\n",
       "    </tr>\n",
       "    <tr>\n",
       "      <th>5824</th>\n",
       "      <td>I ran out of product information.</td>\n",
       "    </tr>\n",
       "    <tr>\n",
       "      <th>6112</th>\n",
       "      <td>During the first searches it is specified free...</td>\n",
       "    </tr>\n",
       "    <tr>\n",
       "      <th>6322</th>\n",
       "      <td>I had difficulty registering or logging in</td>\n",
       "    </tr>\n",
       "    <tr>\n",
       "      <th>6517</th>\n",
       "      <td>I ran out of options to get delivered.</td>\n",
       "    </tr>\n",
       "    <tr>\n",
       "      <th>6518</th>\n",
       "      <td>I ran out of product information.</td>\n",
       "    </tr>\n",
       "    <tr>\n",
       "      <th>8196</th>\n",
       "      <td>a promo code for loyalty would be a plus</td>\n",
       "    </tr>\n",
       "    <tr>\n",
       "      <th>12769</th>\n",
       "      <td>I ran out of options to get delivered.</td>\n",
       "    </tr>\n",
       "    <tr>\n",
       "      <th>13003</th>\n",
       "      <td>We're already a customer.</td>\n",
       "    </tr>\n",
       "    <tr>\n",
       "      <th>14556</th>\n",
       "      <td>I had difficulty registering or logging in</td>\n",
       "    </tr>\n",
       "    <tr>\n",
       "      <th>20341</th>\n",
       "      <td>I found it difficult to find complementary or ...</td>\n",
       "    </tr>\n",
       "    <tr>\n",
       "      <th>21132</th>\n",
       "      <td>I had difficulty paying with the proposed mean...</td>\n",
       "    </tr>\n",
       "    <tr>\n",
       "      <th>21411</th>\n",
       "      <td>I would have wanted a relay point and that was...</td>\n",
       "    </tr>\n",
       "    <tr>\n",
       "      <th>21494</th>\n",
       "      <td>I found it difficult to find complementary or ...</td>\n",
       "    </tr>\n",
       "    <tr>\n",
       "      <th>22525</th>\n",
       "      <td>I had difficulty registering or logging in</td>\n",
       "    </tr>\n",
       "    <tr>\n",
       "      <th>22840</th>\n",
       "      <td>I've run out of information about the returns.</td>\n",
       "    </tr>\n",
       "    <tr>\n",
       "      <th>29188</th>\n",
       "      <td>I ran out of options to get delivered.</td>\n",
       "    </tr>\n",
       "    <tr>\n",
       "      <th>29615</th>\n",
       "      <td>I ran out of advice when I bought it.</td>\n",
       "    </tr>\n",
       "    <tr>\n",
       "      <th>29616</th>\n",
       "      <td>I've run out of information about the returns.</td>\n",
       "    </tr>\n",
       "    <tr>\n",
       "      <th>29814</th>\n",
       "      <td>I thought the shipping costs were related to m...</td>\n",
       "    </tr>\n",
       "    <tr>\n",
       "      <th>30148</th>\n",
       "      <td>especially not to give to neighbors during del...</td>\n",
       "    </tr>\n",
       "    <tr>\n",
       "      <th>30896</th>\n",
       "      <td>I found it difficult to find complementary or ...</td>\n",
       "    </tr>\n",
       "  </tbody>\n",
       "</table>\n",
       "</div>"
      ],
      "text/plain": [
       "                                                 comment\n",
       "211    I found it difficult to find complementary or ...\n",
       "409                   I had trouble using my promo code.\n",
       "456    Free shipping!!! upon arrival 9€ delivery for ...\n",
       "677                     relay point as expensive as home\n",
       "813    Shipping costs for each item please combine th...\n",
       "884           I had difficulty registering or logging in\n",
       "968               I ran out of options to get delivered.\n",
       "5824                   I ran out of product information.\n",
       "6112   During the first searches it is specified free...\n",
       "6322          I had difficulty registering or logging in\n",
       "6517              I ran out of options to get delivered.\n",
       "6518                   I ran out of product information.\n",
       "8196            a promo code for loyalty would be a plus\n",
       "12769             I ran out of options to get delivered.\n",
       "13003                          We're already a customer.\n",
       "14556         I had difficulty registering or logging in\n",
       "20341  I found it difficult to find complementary or ...\n",
       "21132  I had difficulty paying with the proposed mean...\n",
       "21411  I would have wanted a relay point and that was...\n",
       "21494  I found it difficult to find complementary or ...\n",
       "22525         I had difficulty registering or logging in\n",
       "22840     I've run out of information about the returns.\n",
       "29188             I ran out of options to get delivered.\n",
       "29615              I ran out of advice when I bought it.\n",
       "29616     I've run out of information about the returns.\n",
       "29814  I thought the shipping costs were related to m...\n",
       "30148  especially not to give to neighbors during del...\n",
       "30896  I found it difficult to find complementary or ..."
      ]
     },
     "execution_count": 15,
     "metadata": {},
     "output_type": "execute_result"
    }
   ],
   "source": [
    "df_comments1.dropna() "
   ]
  },
  {
   "cell_type": "code",
   "execution_count": 16,
   "metadata": {},
   "outputs": [],
   "source": [
    "df_comments2 = pd.DataFrame(df_november['comment'][df_november['reason'] == \"J’ai eu des difficultés à m'inscrire ou à me connecter\"])"
   ]
  },
  {
   "cell_type": "code",
   "execution_count": 17,
   "metadata": {},
   "outputs": [
    {
     "data": {
      "text/html": [
       "<div>\n",
       "<style scoped>\n",
       "    .dataframe tbody tr th:only-of-type {\n",
       "        vertical-align: middle;\n",
       "    }\n",
       "\n",
       "    .dataframe tbody tr th {\n",
       "        vertical-align: top;\n",
       "    }\n",
       "\n",
       "    .dataframe thead th {\n",
       "        text-align: right;\n",
       "    }\n",
       "</style>\n",
       "<table border=\"1\" class=\"dataframe\">\n",
       "  <thead>\n",
       "    <tr style=\"text-align: right;\">\n",
       "      <th></th>\n",
       "      <th>comment</th>\n",
       "    </tr>\n",
       "  </thead>\n",
       "  <tbody>\n",
       "    <tr>\n",
       "      <th>691</th>\n",
       "      <td>The registration did not work in pro account. ...</td>\n",
       "    </tr>\n",
       "    <tr>\n",
       "      <th>728</th>\n",
       "      <td>password problem</td>\n",
       "    </tr>\n",
       "    <tr>\n",
       "      <th>929</th>\n",
       "      <td>Long and complicated</td>\n",
       "    </tr>\n",
       "    <tr>\n",
       "      <th>1366</th>\n",
       "      <td>Not used to ordering online, I thought my pass...</td>\n",
       "    </tr>\n",
       "    <tr>\n",
       "      <th>1466</th>\n",
       "      <td>For Mano Mano the overseas departments do not ...</td>\n",
       "    </tr>\n",
       "    <tr>\n",
       "      <th>5786</th>\n",
       "      <td>I thought shipping costs were too expensive.</td>\n",
       "    </tr>\n",
       "    <tr>\n",
       "      <th>6464</th>\n",
       "      <td>It's a long time.</td>\n",
       "    </tr>\n",
       "    <tr>\n",
       "      <th>6510</th>\n",
       "      <td>Very difficult to find how to create an accoun...</td>\n",
       "    </tr>\n",
       "    <tr>\n",
       "      <th>7465</th>\n",
       "      <td>More than waiting for delivery</td>\n",
       "    </tr>\n",
       "    <tr>\n",
       "      <th>13218</th>\n",
       "      <td>Difficulties changing delivery address</td>\n",
       "    </tr>\n",
       "    <tr>\n",
       "      <th>14207</th>\n",
       "      <td>I thought shipping costs were too expensive.</td>\n",
       "    </tr>\n",
       "    <tr>\n",
       "      <th>14218</th>\n",
       "      <td>I had difficulty paying with the proposed mean...</td>\n",
       "    </tr>\n",
       "    <tr>\n",
       "      <th>21325</th>\n",
       "      <td>impossible to put a billing address different ...</td>\n",
       "    </tr>\n",
       "    <tr>\n",
       "      <th>22069</th>\n",
       "      <td>I thought shipping costs were too expensive.</td>\n",
       "    </tr>\n",
       "    <tr>\n",
       "      <th>29242</th>\n",
       "      <td>Nothing more.</td>\n",
       "    </tr>\n",
       "    <tr>\n",
       "      <th>29516</th>\n",
       "      <td>Do not accept my password while it was registered</td>\n",
       "    </tr>\n",
       "    <tr>\n",
       "      <th>29657</th>\n",
       "      <td>I ran out of options to get delivered.</td>\n",
       "    </tr>\n",
       "    <tr>\n",
       "      <th>30282</th>\n",
       "      <td>It took several attempts to know a whole after...</td>\n",
       "    </tr>\n",
       "    <tr>\n",
       "      <th>30304</th>\n",
       "      <td>I had difficulty paying with the proposed mean...</td>\n",
       "    </tr>\n",
       "    <tr>\n",
       "      <th>30739</th>\n",
       "      <td>Difficulties logging in and reset the password.</td>\n",
       "    </tr>\n",
       "    <tr>\n",
       "      <th>31157</th>\n",
       "      <td>I thought shipping costs were too expensive.</td>\n",
       "    </tr>\n",
       "    <tr>\n",
       "      <th>31254</th>\n",
       "      <td>I thought shipping costs were too expensive.</td>\n",
       "    </tr>\n",
       "  </tbody>\n",
       "</table>\n",
       "</div>"
      ],
      "text/plain": [
       "                                                 comment\n",
       "691    The registration did not work in pro account. ...\n",
       "728                                     password problem\n",
       "929                                 Long and complicated\n",
       "1366   Not used to ordering online, I thought my pass...\n",
       "1466   For Mano Mano the overseas departments do not ...\n",
       "5786        I thought shipping costs were too expensive.\n",
       "6464                                   It's a long time.\n",
       "6510   Very difficult to find how to create an accoun...\n",
       "7465                      More than waiting for delivery\n",
       "13218             Difficulties changing delivery address\n",
       "14207       I thought shipping costs were too expensive.\n",
       "14218  I had difficulty paying with the proposed mean...\n",
       "21325  impossible to put a billing address different ...\n",
       "22069       I thought shipping costs were too expensive.\n",
       "29242                                      Nothing more.\n",
       "29516  Do not accept my password while it was registered\n",
       "29657             I ran out of options to get delivered.\n",
       "30282  It took several attempts to know a whole after...\n",
       "30304  I had difficulty paying with the proposed mean...\n",
       "30739    Difficulties logging in and reset the password.\n",
       "31157       I thought shipping costs were too expensive.\n",
       "31254       I thought shipping costs were too expensive."
      ]
     },
     "execution_count": 17,
     "metadata": {},
     "output_type": "execute_result"
    }
   ],
   "source": [
    "df_comments2.dropna()"
   ]
  },
  {
   "cell_type": "code",
   "execution_count": 18,
   "metadata": {},
   "outputs": [],
   "source": [
    "#From these two comments sections we can see that people didn't really place their comments under the correct section, \n",
    "#seeings as there are several \"shipping costs too expensive\" comments in the section \"had trouble signing up\" and vice-versa."
   ]
  },
  {
   "cell_type": "code",
   "execution_count": 51,
   "metadata": {},
   "outputs": [
    {
     "data": {
      "text/plain": [
       "0.00    18490\n",
       "5.90      612\n",
       "6.90      405\n",
       "4.90      384\n",
       "4.95      352\n",
       "Name: shipping_fees, dtype: int64"
      ]
     },
     "execution_count": 51,
     "metadata": {},
     "output_type": "execute_result"
    }
   ],
   "source": [
    "df_november['shipping_fees'].value_counts(dropna = False).head()\n",
    "#As we can see, most orders were free of charge"
   ]
  },
  {
   "cell_type": "code",
   "execution_count": 49,
   "metadata": {},
   "outputs": [
    {
     "name": "stdout",
     "output_type": "stream",
     "text": [
      "0.1     0.000\n",
      "0.2     0.000\n",
      "0.3     0.000\n",
      "0.4     0.000\n",
      "0.5     0.000\n",
      "0.6     3.950\n",
      "0.7     5.900\n",
      "0.8     8.000\n",
      "0.9    12.814\n",
      "Name: shipping_fees, dtype: float64\n",
      "Min value of shipping fees: 0.0\n",
      "Max value of shipping fees: 809.9\n",
      "Average value of shipping fees: 5.003353333333333\n"
     ]
    }
   ],
   "source": [
    "print(df_november['shipping_fees'].quantile(q = np.arange(0.1, 1.0, 0.1)))\n",
    "print('Min value of shipping fees:' ,df_november['shipping_fees'].quantile(q = 0))                           \n",
    "print('Max value of shipping fees:' ,df_november['shipping_fees'].quantile(q = 1))        \n",
    "print('Average value of shipping fees:',df_november['shipping_fees'].mean())   "
   ]
  },
  {
   "cell_type": "markdown",
   "metadata": {},
   "source": [
    "## Days with most sells"
   ]
  },
  {
   "cell_type": "code",
   "execution_count": 20,
   "metadata": {},
   "outputs": [
    {
     "data": {
      "text/plain": [
       "Monday       6025\n",
       "Tuesday      5432\n",
       "Sunday       4704\n",
       "Wednesday    4341\n",
       "Friday       4304\n",
       "Thursday     4251\n",
       "Saturday     3943\n",
       "Name: day, dtype: int64"
      ]
     },
     "execution_count": 20,
     "metadata": {},
     "output_type": "execute_result"
    }
   ],
   "source": [
    "df_november['day'].value_counts(dropna = False)\n",
    "#There is somewhat of a trend to buy on the beggining/start of the week(Sunday - Tuesday), Monday being the highest one."
   ]
  },
  {
   "cell_type": "markdown",
   "metadata": {},
   "source": [
    "## Most common country/language/family"
   ]
  },
  {
   "cell_type": "code",
   "execution_count": 22,
   "metadata": {},
   "outputs": [
    {
     "data": {
      "text/plain": [
       "Unknown       30034\n",
       "French         1091\n",
       "Spanish         593\n",
       "Italian         540\n",
       "English         425\n",
       "German          303\n",
       "Portuguese        7\n",
       "Catalan           4\n",
       "Dutch             2\n",
       "Turkish           1\n",
       "Name: language, dtype: int64"
      ]
     },
     "execution_count": 22,
     "metadata": {},
     "output_type": "execute_result"
    }
   ],
   "source": [
    "df_november['language'].value_counts(dropna = False)\n",
    "#The language is only detected when there is a written comment!"
   ]
  },
  {
   "cell_type": "code",
   "execution_count": 23,
   "metadata": {},
   "outputs": [
    {
     "data": {
      "text/plain": [
       "FR    19758\n",
       "IT     4962\n",
       "ES     3393\n",
       "GB     2911\n",
       "DE     1976\n",
       "Name: platform, dtype: int64"
      ]
     },
     "execution_count": 23,
     "metadata": {},
     "output_type": "execute_result"
    }
   ],
   "source": [
    "df_november['platform'].value_counts(dropna = False)\n",
    "#Most customers are French"
   ]
  },
  {
   "cell_type": "code",
   "execution_count": 24,
   "metadata": {},
   "outputs": [],
   "source": [
    "df_country = df_november[['platform', 'category', 'family']]"
   ]
  },
  {
   "cell_type": "code",
   "execution_count": 25,
   "metadata": {},
   "outputs": [
    {
     "data": {
      "text/plain": [
       "Outillage               4775\n",
       "Jardin piscine          2819\n",
       "Mobilier d'intérieur    2798\n",
       "Plomberie chauffage     1923\n",
       "Quincaillerie           1660\n",
       "Name: family, dtype: int64"
      ]
     },
     "execution_count": 25,
     "metadata": {},
     "output_type": "execute_result"
    }
   ],
   "source": [
    "df_country[df_country['platform'] == 'FR']['family'].value_counts(dropna = False).head()"
   ]
  },
  {
   "cell_type": "code",
   "execution_count": 26,
   "metadata": {},
   "outputs": [
    {
     "data": {
      "text/plain": [
       "Mobilier d'intérieur    993\n",
       "Jardin piscine          870\n",
       "Outillage               811\n",
       "Luminaire               506\n",
       "Electricité             384\n",
       "Name: family, dtype: int64"
      ]
     },
     "execution_count": 26,
     "metadata": {},
     "output_type": "execute_result"
    }
   ],
   "source": [
    "df_country[df_country['platform'] == 'IT']['family'].value_counts(dropna = False).head()"
   ]
  },
  {
   "cell_type": "code",
   "execution_count": 27,
   "metadata": {},
   "outputs": [
    {
     "data": {
      "text/plain": [
       "Mobilier d'intérieur    688\n",
       "Jardin piscine          648\n",
       "Outillage               613\n",
       "Plomberie chauffage     319\n",
       "Luminaire               254\n",
       "Name: family, dtype: int64"
      ]
     },
     "execution_count": 27,
     "metadata": {},
     "output_type": "execute_result"
    }
   ],
   "source": [
    "df_country[df_country['platform'] == 'ES']['family'].value_counts(dropna = False).head()"
   ]
  },
  {
   "cell_type": "code",
   "execution_count": 28,
   "metadata": {},
   "outputs": [
    {
     "data": {
      "text/plain": [
       "Mobilier d'intérieur    996\n",
       "Jardin piscine          438\n",
       "Outillage               351\n",
       "Salle de bain, WC       308\n",
       "Plomberie chauffage     270\n",
       "Name: family, dtype: int64"
      ]
     },
     "execution_count": 28,
     "metadata": {},
     "output_type": "execute_result"
    }
   ],
   "source": [
    "df_country[df_country['platform'] == 'GB']['family'].value_counts(dropna = False).head()"
   ]
  },
  {
   "cell_type": "code",
   "execution_count": 29,
   "metadata": {},
   "outputs": [
    {
     "data": {
      "text/plain": [
       "Outillage               409\n",
       "Jardin piscine          306\n",
       "Mobilier d'intérieur    296\n",
       "Salle de bain, WC       193\n",
       "Luminaire               192\n",
       "Name: family, dtype: int64"
      ]
     },
     "execution_count": 29,
     "metadata": {},
     "output_type": "execute_result"
    }
   ],
   "source": [
    "df_country[df_country['platform'] == 'DE']['family'].value_counts(dropna = False).head()"
   ]
  },
  {
   "cell_type": "markdown",
   "metadata": {},
   "source": [
    "## Payment method / device"
   ]
  },
  {
   "cell_type": "code",
   "execution_count": 30,
   "metadata": {},
   "outputs": [
    {
     "data": {
      "text/plain": [
       "visa                12775\n",
       "mastercard           9850\n",
       "paypal               9153\n",
       "payment-intent        567\n",
       "oney3x                298\n",
       "transfer              250\n",
       "sofort                 89\n",
       "deferred-payment       17\n",
       "cb                      1\n",
       "Name: payment_method, dtype: int64"
      ]
     },
     "execution_count": 30,
     "metadata": {},
     "output_type": "execute_result"
    }
   ],
   "source": [
    "df_november['payment_method'].value_counts(dropna = False)"
   ]
  },
  {
   "cell_type": "code",
   "execution_count": 31,
   "metadata": {},
   "outputs": [
    {
     "data": {
      "text/plain": [
       "desktop    22041\n",
       "phone       8721\n",
       "tablet      2238\n",
       "Name: device, dtype: int64"
      ]
     },
     "execution_count": 31,
     "metadata": {},
     "output_type": "execute_result"
    }
   ],
   "source": [
    "df_november['device'].value_counts(dropna = True)\n",
    "#Desktop is by far the most used device for connecting to the website(no surprise here), but there is also a considerable amount of people using\n",
    "#their phones, meaning the website is definitely mobile-friendly."
   ]
  },
  {
   "cell_type": "code",
   "execution_count": 32,
   "metadata": {},
   "outputs": [
    {
     "data": {
      "text/plain": [
       "Chrome 95.0.4638               6967\n",
       "Chrome 96.0.4664               5157\n",
       "Firefox 94.0                   2649\n",
       "Edge 95.0.1020                 2219\n",
       "Chrome Mobile 95.0.4638        2076\n",
       "                               ... \n",
       "Google 169.0.385036250            1\n",
       "Google 88.0.281793270             1\n",
       "Safari 12.0.3                     1\n",
       "Chrome Mobile iOS 83.0.4103       1\n",
       "MiuiBrowser 12.12.2               1\n",
       "Name: browser, Length: 327, dtype: int64"
      ]
     },
     "execution_count": 32,
     "metadata": {},
     "output_type": "execute_result"
    }
   ],
   "source": [
    "df_november['browser'].value_counts(dropna = False)\n",
    "#As expected, most customers use some version of Google Chrome to navigate the Mano-Mano website"
   ]
  },
  {
   "cell_type": "markdown",
   "metadata": {},
   "source": [
    "## B2B, Manodvisor, ManoFullfilment"
   ]
  },
  {
   "cell_type": "code",
   "execution_count": 33,
   "metadata": {},
   "outputs": [
    {
     "data": {
      "text/plain": [
       "False    26516\n",
       "True      5937\n",
       "NaN        547\n",
       "Name: is_b2b, dtype: int64"
      ]
     },
     "execution_count": 33,
     "metadata": {},
     "output_type": "execute_result"
    }
   ],
   "source": [
    "df_november['is_b2b'].value_counts(dropna = False)\n",
    "#Most of the orders are from customers and not companies"
   ]
  },
  {
   "cell_type": "code",
   "execution_count": 34,
   "metadata": {},
   "outputs": [
    {
     "data": {
      "text/plain": [
       "False    32957\n",
       "True        43\n",
       "Name: has_manodvisor_contact, dtype: int64"
      ]
     },
     "execution_count": 34,
     "metadata": {},
     "output_type": "execute_result"
    }
   ],
   "source": [
    "df_november['has_manodvisor_contact'].value_counts(dropna = False)\n",
    "#the large majority of customers did not contact a Mano Mano advisor during their ordering experience"
   ]
  },
  {
   "cell_type": "code",
   "execution_count": 35,
   "metadata": {},
   "outputs": [
    {
     "data": {
      "text/plain": [
       "False    31151\n",
       "True      1849\n",
       "Name: is_mf, dtype: int64"
      ]
     },
     "execution_count": 35,
     "metadata": {},
     "output_type": "execute_result"
    }
   ],
   "source": [
    "df_november['is_mf'].value_counts(dropna = False)\n",
    "#Mano fullfilment"
   ]
  },
  {
   "cell_type": "markdown",
   "metadata": {},
   "source": [
    "## Does pre-sale influence the purchase?"
   ]
  },
  {
   "cell_type": "code",
   "execution_count": 36,
   "metadata": {},
   "outputs": [
    {
     "data": {
      "text/plain": [
       "False    32651\n",
       "True       349\n",
       "Name: has_presales_contact, dtype: int64"
      ]
     },
     "execution_count": 36,
     "metadata": {},
     "output_type": "execute_result"
    }
   ],
   "source": [
    "df_november['has_presales_contact'].value_counts(dropna = False)"
   ]
  },
  {
   "cell_type": "code",
   "execution_count": 37,
   "metadata": {},
   "outputs": [
    {
     "data": {
      "text/plain": [
       "FALSE      32941\n",
       "good          44\n",
       "neutral       11\n",
       "bad            4\n",
       "Name: csat_presales, dtype: int64"
      ]
     },
     "execution_count": 37,
     "metadata": {},
     "output_type": "execute_result"
    }
   ],
   "source": [
    "df_november['csat_presales'].value_counts(dropna = False)\n",
    "#although among the 3 opinions, good was the highest, most customers did not convey their opinion regarding satisfaction with pre-sale experience"
   ]
  },
  {
   "cell_type": "code",
   "execution_count": 38,
   "metadata": {},
   "outputs": [
    {
     "data": {
      "text/html": [
       "<div>\n",
       "<style scoped>\n",
       "    .dataframe tbody tr th:only-of-type {\n",
       "        vertical-align: middle;\n",
       "    }\n",
       "\n",
       "    .dataframe tbody tr th {\n",
       "        vertical-align: top;\n",
       "    }\n",
       "\n",
       "    .dataframe thead th {\n",
       "        text-align: right;\n",
       "    }\n",
       "</style>\n",
       "<table border=\"1\" class=\"dataframe\">\n",
       "  <thead>\n",
       "    <tr style=\"text-align: right;\">\n",
       "      <th></th>\n",
       "      <th>comment</th>\n",
       "      <th>score</th>\n",
       "      <th>bv_transaction</th>\n",
       "    </tr>\n",
       "  </thead>\n",
       "  <tbody>\n",
       "    <tr>\n",
       "      <th>188</th>\n",
       "      <td>Great service and helpful</td>\n",
       "      <td>10</td>\n",
       "      <td>101.42</td>\n",
       "    </tr>\n",
       "    <tr>\n",
       "      <th>460</th>\n",
       "      <td>NaN</td>\n",
       "      <td>7</td>\n",
       "      <td>118.84</td>\n",
       "    </tr>\n",
       "    <tr>\n",
       "      <th>653</th>\n",
       "      <td>NaN</td>\n",
       "      <td>10</td>\n",
       "      <td>144.99</td>\n",
       "    </tr>\n",
       "    <tr>\n",
       "      <th>1049</th>\n",
       "      <td>NaN</td>\n",
       "      <td>10</td>\n",
       "      <td>268.39</td>\n",
       "    </tr>\n",
       "    <tr>\n",
       "      <th>1057</th>\n",
       "      <td>NaN</td>\n",
       "      <td>10</td>\n",
       "      <td>279.00</td>\n",
       "    </tr>\n",
       "    <tr>\n",
       "      <th>...</th>\n",
       "      <td>...</td>\n",
       "      <td>...</td>\n",
       "      <td>...</td>\n",
       "    </tr>\n",
       "    <tr>\n",
       "      <th>32639</th>\n",
       "      <td>NaN</td>\n",
       "      <td>10</td>\n",
       "      <td>287.00</td>\n",
       "    </tr>\n",
       "    <tr>\n",
       "      <th>32650</th>\n",
       "      <td>NaN</td>\n",
       "      <td>9</td>\n",
       "      <td>91.11</td>\n",
       "    </tr>\n",
       "    <tr>\n",
       "      <th>32673</th>\n",
       "      <td>NaN</td>\n",
       "      <td>9</td>\n",
       "      <td>146.50</td>\n",
       "    </tr>\n",
       "    <tr>\n",
       "      <th>32727</th>\n",
       "      <td>NaN</td>\n",
       "      <td>10</td>\n",
       "      <td>91.61</td>\n",
       "    </tr>\n",
       "    <tr>\n",
       "      <th>32882</th>\n",
       "      <td>NaN</td>\n",
       "      <td>8</td>\n",
       "      <td>550.91</td>\n",
       "    </tr>\n",
       "  </tbody>\n",
       "</table>\n",
       "<p>349 rows × 3 columns</p>\n",
       "</div>"
      ],
      "text/plain": [
       "                         comment  score  bv_transaction\n",
       "188    Great service and helpful     10          101.42\n",
       "460                          NaN      7          118.84\n",
       "653                          NaN     10          144.99\n",
       "1049                         NaN     10          268.39\n",
       "1057                         NaN     10          279.00\n",
       "...                          ...    ...             ...\n",
       "32639                        NaN     10          287.00\n",
       "32650                        NaN      9           91.11\n",
       "32673                        NaN      9          146.50\n",
       "32727                        NaN     10           91.61\n",
       "32882                        NaN      8          550.91\n",
       "\n",
       "[349 rows x 3 columns]"
      ]
     },
     "execution_count": 38,
     "metadata": {},
     "output_type": "execute_result"
    }
   ],
   "source": [
    "df_presales = df_november[['comment','score','bv_transaction']][df_november['has_presales_contact'] == True]\n",
    "df_presales"
   ]
  },
  {
   "cell_type": "code",
   "execution_count": 39,
   "metadata": {},
   "outputs": [
    {
     "data": {
      "text/plain": [
       "8.498567335243553"
      ]
     },
     "execution_count": 39,
     "metadata": {},
     "output_type": "execute_result"
    }
   ],
   "source": [
    "df_presales['score'].mean()"
   ]
  },
  {
   "cell_type": "code",
   "execution_count": 40,
   "metadata": {},
   "outputs": [],
   "source": [
    "df_nopresales = df_november[['comment','score','bv_transaction']][df_november['has_presales_contact'] == False]"
   ]
  },
  {
   "cell_type": "code",
   "execution_count": 41,
   "metadata": {},
   "outputs": [
    {
     "data": {
      "text/plain": [
       "8.950782518146458"
      ]
     },
     "execution_count": 41,
     "metadata": {},
     "output_type": "execute_result"
    }
   ],
   "source": [
    "df_nopresales['score'].mean()"
   ]
  },
  {
   "cell_type": "code",
   "execution_count": 42,
   "metadata": {},
   "outputs": [],
   "source": [
    "#Despite not having a large sample of customers with pre-sale experience, there is not a really good influence on the customer.\n",
    "#In fact, the average score for customers with no pre_sale contact is higher than the ones with and also has higher percentage of \"10\" scores."
   ]
  },
  {
   "cell_type": "markdown",
   "metadata": {},
   "source": [
    "## Sales, articles and categories"
   ]
  },
  {
   "cell_type": "code",
   "execution_count": 43,
   "metadata": {},
   "outputs": [
    {
     "data": {
      "text/plain": [
       "Index(['id', 'comment', 'original_comment', 'score', 'data_scale',\n",
       "       'data_source', 'created_at', 'date', 'day', 'month', 'is_mf', 'device',\n",
       "       'family', 'is_b2b', 'reason', 'browser', 'category', 'language',\n",
       "       'platform', 'provider', 'first_order', 'nb_articles', 'csat_presales',\n",
       "       'shipping_fees', 'bv_transaction', 'payment_method', 'operating_system',\n",
       "       'last_paid_channel', 'has_presales_contact', 'shipping_fees_bucket',\n",
       "       'bv_transaction_bucket', 'has_manodvisor_contact', 'themes', 'tags'],\n",
       "      dtype='object')"
      ]
     },
     "execution_count": 43,
     "metadata": {},
     "output_type": "execute_result"
    }
   ],
   "source": [
    "df_november.columns"
   ]
  },
  {
   "cell_type": "code",
   "execution_count": 44,
   "metadata": {},
   "outputs": [
    {
     "name": "stdout",
     "output_type": "stream",
     "text": [
      "0.1     17.980\n",
      "0.2     27.000\n",
      "0.3     36.990\n",
      "0.4     49.800\n",
      "0.5     64.930\n",
      "0.6     84.990\n",
      "0.7    115.980\n",
      "0.8    165.000\n",
      "0.9    281.405\n",
      "Name: bv_transaction, dtype: float64\n",
      "Min value of transactions: 1.08\n",
      "Max value of transactions: 6207.95\n",
      "Average value of transactions: 125.95824303030304\n"
     ]
    }
   ],
   "source": [
    "print(df_november['bv_transaction'].quantile(q = np.arange(0.1, 1.0, 0.1)))\n",
    "print('Min value of transactions:' ,df_november['bv_transaction'].quantile(q = 0))                           \n",
    "print('Max value of transactions:' ,df_november['bv_transaction'].quantile(q = 1))        \n",
    "print('Average value of transactions:',df_november['bv_transaction'].mean())                   "
   ]
  },
  {
   "cell_type": "code",
   "execution_count": 45,
   "metadata": {},
   "outputs": [],
   "source": [
    "df_articles = df_november[['category','family','bv_transaction','nb_articles','score']]"
   ]
  },
  {
   "cell_type": "code",
   "execution_count": 46,
   "metadata": {},
   "outputs": [
    {
     "data": {
      "text/plain": [
       "1     26627\n",
       "2      4014\n",
       "3      1240\n",
       "4       506\n",
       "5       226\n",
       "6       153\n",
       "7        72\n",
       "8        40\n",
       "9        27\n",
       "10       20\n",
       "12       20\n",
       "11       13\n",
       "14        8\n",
       "13        6\n",
       "15        4\n",
       "16        4\n",
       "17        4\n",
       "18        4\n",
       "20        2\n",
       "25        2\n",
       "27        2\n",
       "39        1\n",
       "35        1\n",
       "22        1\n",
       "26        1\n",
       "28        1\n",
       "30        1\n",
       "Name: nb_articles, dtype: int64"
      ]
     },
     "execution_count": 46,
     "metadata": {},
     "output_type": "execute_result"
    }
   ],
   "source": [
    "df_articles['nb_articles'].value_counts(dropna = False)\n",
    "#As expected, most of the customers order 1 article only. The max nb ordered in November was 39"
   ]
  }
 ],
 "metadata": {
  "interpreter": {
   "hash": "9551cd33bf16c35239638d01283791bf06f66b16b64b8c1df3bd1173c0151abf"
  },
  "kernelspec": {
   "display_name": "Python 3.8.12 64-bit ('Safe space': conda)",
   "language": "python",
   "name": "python3"
  },
  "language_info": {
   "codemirror_mode": {
    "name": "ipython",
    "version": 3
   },
   "file_extension": ".py",
   "mimetype": "text/x-python",
   "name": "python",
   "nbconvert_exporter": "python",
   "pygments_lexer": "ipython3",
   "version": "3.8.12"
  },
  "orig_nbformat": 4
 },
 "nbformat": 4,
 "nbformat_minor": 2
}
