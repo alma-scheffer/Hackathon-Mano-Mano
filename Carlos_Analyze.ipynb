{
 "cells": [
  {
   "cell_type": "code",
   "execution_count": null,
   "metadata": {},
   "outputs": [],
   "source": [
    "import pandas as pd\n",
    "import numpy as np\n",
    "import seaborn as sns\n",
    "import matplotlib.pyplot as plt"
   ]
  },
  {
   "cell_type": "code",
   "execution_count": null,
   "metadata": {},
   "outputs": [],
   "source": [
    "# file used here is the mano(1)\n",
    "\n",
    "df = pd.read_csv('add FILE mano(1) path here', sep = ',')"
   ]
  },
  {
   "cell_type": "code",
   "execution_count": null,
   "metadata": {},
   "outputs": [],
   "source": [
    "df.head()"
   ]
  },
  {
   "cell_type": "code",
   "execution_count": null,
   "metadata": {},
   "outputs": [],
   "source": [
    "df.info()"
   ]
  },
  {
   "cell_type": "code",
   "execution_count": null,
   "metadata": {},
   "outputs": [],
   "source": [
    "# Relation of total transactions (bv_transaction) between platform/country, payment method and if a new customer or not ## \n",
    "\n",
    "df.groupby(['platform',\n",
    "            'payment_method',\n",
    "            'first_order']).agg({'bv_transaction':'sum'}).sort_values(by=['platform',\n",
    "                                                                          'payment_method',\n",
    "                                                                          'bv_transaction'], ascending = False)"
   ]
  },
  {
   "cell_type": "code",
   "execution_count": null,
   "metadata": {},
   "outputs": [],
   "source": [
    "# total purchases by month and if professional/or not #\n",
    "\n",
    "df.groupby(['month', 'is_b2b']).agg({'id':'count'}).sort_values(by='month', ascending = False)"
   ]
  },
  {
   "cell_type": "code",
   "execution_count": null,
   "metadata": {},
   "outputs": [],
   "source": [
    "# relation of the score with payment_method and if customer is Professional or not #\n",
    "\n",
    "df.groupby(['payment_method', 'is_b2b']).agg({'score':'mean'}).sort_values(by='score', ascending = False)"
   ]
  },
  {
   "cell_type": "code",
   "execution_count": null,
   "metadata": {},
   "outputs": [],
   "source": [
    "# relation of the days with being professional or not buyer #\n",
    "# or which day professional or not buy with more often #\n",
    "\n",
    "df.groupby(['day', 'is_b2b']).agg({'id':'count'}).sort_values(by='id', ascending = False)"
   ]
  },
  {
   "cell_type": "code",
   "execution_count": null,
   "metadata": {},
   "outputs": [],
   "source": [
    "# relation of which device the professional/or not buy more often and which days of the week #\n",
    "\n",
    "df.groupby(['day', 'device', 'is_b2b']).agg({'id':'count'}).sort_values(by='id', ascending = False)"
   ]
  },
  {
   "cell_type": "code",
   "execution_count": null,
   "metadata": {},
   "outputs": [],
   "source": [
    "# Average score in relation of platform, device and first_order #\n",
    "\n",
    "df.groupby(['platform', 'device', 'first_order']).agg({'score':'mean', 'id':'count'}).sort_values(by='score', ascending = False)"
   ]
  },
  {
   "cell_type": "code",
   "execution_count": null,
   "metadata": {},
   "outputs": [],
   "source": [
    "# Same as above but sort by platform/country #\n",
    "\n",
    "df.groupby(['platform', 'device', 'first_order']).agg({'score':'mean', 'id':'count'}).sort_values(by='platform', ascending = False)"
   ]
  }
 ],
 "metadata": {
  "interpreter": {
   "hash": "dcacb0086e9a4f4eabd41c33bf4faac5ea0a3337ed3f5eff0680afa930572c04"
  },
  "kernelspec": {
   "display_name": "Python 3.9.7 64-bit",
   "language": "python",
   "name": "python3"
  },
  "language_info": {
   "codemirror_mode": {
    "name": "ipython",
    "version": 3
   },
   "file_extension": ".py",
   "mimetype": "text/x-python",
   "name": "python",
   "nbconvert_exporter": "python",
   "pygments_lexer": "ipython3",
   "version": "3.7.8"
  },
  "orig_nbformat": 4
 },
 "nbformat": 4,
 "nbformat_minor": 2
}
