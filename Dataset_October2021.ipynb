import pandas as pd
import numpy as np
import seaborn as sns
import matplotlib.pyplot as plt

df_oct = pd.read_csv('/content/drive/MyDrive/Hackathon/Hackathon_2/2022-01 Wild Code School x ManoMano_ CES Data Set - October 2021.csv', sep = ',')

df_oct

df_oct.info()

df_oct.isna().sum()

### check unique() ###

for i in df_oct:
  print(f'{i}\n',df_oct[i].unique(),'\n')
  
### check value_counts() ###

for i in df_oct:
  print(f'{i}\n',df_oct[i].value_counts(dropna = False),'\n')
  
#### Sum "bv_transaction", count "id", sum "nb_articles" by "family" #####
#### New columns that have % and Avg ###

df_oct_groupby = df_oct.groupby('family', as_index = False).agg({'bv_transaction':'sum',
                                                                 'id':'count',
                                                                 'nb_articles':'sum'})

#### create extra columns '% Transaction" #####
df_oct_groupby['% Transaction'] = df_oct_groupby['bv_transaction']/sum(df_oct_groupby['bv_transaction'])*100
df_oct_groupby['Avg Transaction'] = df_oct_groupby['bv_transaction']/(df_oct_groupby['id'])

#### create extra columns '% ID" #####
df_oct_groupby['% ID'] = df_oct_groupby['id']/sum(df_oct_groupby['id'])*100

#### create extra columns '% Article" #####
df_oct_groupby['% Article'] = df_oct_groupby['nb_articles']/sum(df_oct_groupby['nb_articles'])*100

#### create extra columns 'Mean Article" #####
df_oct_groupby['Avg Article by ID'] = df_oct_groupby['nb_articles']/(df_oct_groupby['id'])


df_oct_groupby.sort_values(by='bv_transaction', ascending = False)
